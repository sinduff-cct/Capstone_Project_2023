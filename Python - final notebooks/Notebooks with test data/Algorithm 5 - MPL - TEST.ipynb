{
 "cells": [
  {
   "cell_type": "code",
   "execution_count": null,
   "id": "cbe62b48",
   "metadata": {},
   "outputs": [],
   "source": [
    "# Import libraries\n",
    "\n",
    "import pandas as pd\n",
    "import numpy as np\n",
    "\n",
    "import seaborn as sns #visualisation\n",
    "import matplotlib.pyplot as plt #visualisation\n",
    "\n",
    "%matplotlib inline \n",
    "sns.set(color_codes=True)\n",
    "\n",
    "# create tables\n",
    "from tabulate import tabulate"
   ]
  },
  {
   "cell_type": "markdown",
   "id": "367fe6b0",
   "metadata": {},
   "source": [
    "### Import Test data file"
   ]
  },
  {
   "cell_type": "code",
   "execution_count": null,
   "id": "49d00062",
   "metadata": {},
   "outputs": [],
   "source": [
    "# read in the .csv file - of filtered student_info\n",
    "\n",
    "data_df = pd.read_csv(\"test_data.csv\")"
   ]
  },
  {
   "cell_type": "code",
   "execution_count": null,
   "id": "050169fb",
   "metadata": {},
   "outputs": [],
   "source": [
    "data_df.info()"
   ]
  },
  {
   "cell_type": "markdown",
   "id": "2f17135a",
   "metadata": {},
   "source": [
    "### Algorithm 5 - MPL"
   ]
  },
  {
   "cell_type": "code",
   "execution_count": null,
   "id": "a873fd3e",
   "metadata": {},
   "outputs": [],
   "source": [
    "# machine learning libraries\n",
    "from sklearn.model_selection import GridSearchCV\n",
    "from sklearn.model_selection import train_test_split\n",
    "\n",
    "# model layers\n",
    "from keras.models import Sequential\n",
    "from keras.layers import Dense\n",
    "from keras.wrappers.scikit_learn import KerasClassifier\n",
    "#from scikeras.wrappers import KerasClassifier, KerasRegressor"
   ]
  },
  {
   "cell_type": "code",
   "execution_count": null,
   "id": "d5cd3894",
   "metadata": {},
   "outputs": [],
   "source": [
    "# Function to create and return the Keras model\n",
    "\n",
    "def create_model(optimizer='adam', neurons_layer1=20, neurons_layer2=10):\n",
    "    \n",
    "    model = Sequential()\n",
    "    \n",
    "    # Hidden layer 1 with neuron count taken from the param_grid values, and relu as the activation function\n",
    "    model.add(Dense(neurons_layer1, input_dim=X_train.shape[1], activation='relu'))\n",
    "    \n",
    "    # Hidden layer 2 with neuron count taken from the param_grid values, and relu as the activation function\n",
    "    model.add(Dense(neurons_layer2, activation='relu'))\n",
    "    \n",
    "    # Final layer with 1 neuron, and sigmoid as the activation function\n",
    "    # use 'softmax' for multiclass classification\n",
    "    model.add(Dense(1, activation='sigmoid'))\n",
    "    \n",
    "    # compile the model\n",
    "    # use 'categorical_crossentropy' for multiclass classification\n",
    "    model.compile(loss='binary_crossentropy', optimizer=optimizer, metrics=['accuracy'])\n",
    "    \n",
    "    return model"
   ]
  },
  {
   "cell_type": "code",
   "execution_count": null,
   "id": "da131f99",
   "metadata": {},
   "outputs": [],
   "source": [
    "# wrap the model using KerasClassifier \n",
    "\n",
    "model = KerasClassifier(build_fn=create_model, epochs=10, batch_size=32, verbose=0)\n",
    "#model = scikeras(build_fn=create_model, epochs=10, batch_size=32, verbose=0)"
   ]
  },
  {
   "cell_type": "markdown",
   "id": "b4460897",
   "metadata": {},
   "source": [
    "### Hyperparm tuning - GridSearch CV"
   ]
  },
  {
   "cell_type": "code",
   "execution_count": null,
   "id": "45e04ecc",
   "metadata": {},
   "outputs": [],
   "source": [
    "# Define hyperparameter grid\n",
    "param_grid = {\n",
    "    'optimizer': ['SGD', 'RMSprop', 'Adam'],\n",
    "    'batch_size': [16, 32, 64],\n",
    "    'neurons_layer1': [10, 20, 30],\n",
    "    'neurons_layer2': [5, 10, 15],\n",
    "    'epochs': [10, 20]\n",
    "}"
   ]
  },
  {
   "cell_type": "code",
   "execution_count": null,
   "id": "25e7033a",
   "metadata": {},
   "outputs": [],
   "source": [
    "# divide the dataset into features (X) and the target variable (y)\n",
    "\n",
    "# variable 1 = gender\n",
    "X = data_df.drop(columns=['gender'])  # drop target variable from the dataframe\n",
    "y = data_df['gender']        # id target variable \n",
    "\n",
    "# variable 2 = studied_credits\n",
    "X2 = data_df.drop(columns=['studied_credits'])\n",
    "y2 = data_df['studied_credits']\n",
    "\n",
    "# variable 3 = tenure\n",
    "X3 = data_df.drop(columns=['tenure'])\n",
    "y3 = data_df['tenure']"
   ]
  },
  {
   "cell_type": "code",
   "execution_count": null,
   "id": "0666445c",
   "metadata": {},
   "outputs": [],
   "source": [
    "# split the data into training and test sets\n",
    "\n",
    "X_train, X_test, y_train, y_test = train_test_split(X, y, test_size=0.2, random_state=0)\n",
    "X_train2, X_test2, y_train2, y_test2 = train_test_split(X2, y2, test_size=0.2, random_state=0)\n",
    "X_train3, X_test3, y_train3, y_test3 = train_test_split(X3, y3, test_size=0.2, random_state=0)"
   ]
  },
  {
   "cell_type": "markdown",
   "id": "50d46aa9",
   "metadata": {},
   "source": [
    "### Fit and tune with model for variable 1 = gender"
   ]
  },
  {
   "cell_type": "code",
   "execution_count": null,
   "id": "087d2aa8",
   "metadata": {},
   "outputs": [],
   "source": [
    "# Perform grid search using GridSearchCV\n",
    "\n",
    "grid = GridSearchCV(estimator=model, param_grid=param_grid, cv=3)\n",
    "\n",
    "grid_result = grid.fit(X_train, y_train)"
   ]
  },
  {
   "cell_type": "code",
   "execution_count": null,
   "id": "6adcfe56",
   "metadata": {},
   "outputs": [],
   "source": [
    "# Print the best hyperparameters\n",
    "\n",
    "print(\"Best: %f using %s\" % (grid_result.best_score_, grid_result.best_params_))"
   ]
  },
  {
   "cell_type": "code",
   "execution_count": null,
   "id": "3db6b2ea",
   "metadata": {},
   "outputs": [],
   "source": [
    "# Create the best model using the best hyperparameters\n",
    "best_model = create_model(optimizer=grid_result.best_params_['optimizer'], \n",
    "                          neurons_layer1=grid_result.best_params_['neurons_layer1'],\n",
    "                          neurons_layer2=grid_result.best_params_['neurons_layer2'])"
   ]
  },
  {
   "cell_type": "code",
   "execution_count": null,
   "id": "541855c3",
   "metadata": {},
   "outputs": [],
   "source": [
    "# Fit the best model\n",
    "best_model.fit(X_train, y_train, epochs=grid_result.best_params_['epochs'], \n",
    "               batch_size=grid_result.best_params_['batch_size'], verbose=1)"
   ]
  },
  {
   "cell_type": "code",
   "execution_count": null,
   "id": "24d5a739",
   "metadata": {},
   "outputs": [],
   "source": [
    "# Evaluate the model on test data\n",
    "score = best_model.evaluate(X_test, y_test, verbose=0)"
   ]
  },
  {
   "cell_type": "code",
   "execution_count": null,
   "id": "ab784a51",
   "metadata": {},
   "outputs": [],
   "source": [
    "print(f'Test loss for gender: {score[0]}')\n",
    "print(f'Test accuracy gender: {score[1]}')\n"
   ]
  },
  {
   "cell_type": "markdown",
   "id": "0c7f05c6",
   "metadata": {},
   "source": [
    "### Fit and tune with model for variable 2 - studied_credits¶"
   ]
  },
  {
   "cell_type": "code",
   "execution_count": null,
   "id": "fdca7d70",
   "metadata": {},
   "outputs": [],
   "source": [
    "# Perform grid search using GridSearchCV\n",
    "\n",
    "grid2 = GridSearchCV(estimator=model, param_grid=param_grid, cv=3)\n",
    "\n",
    "grid_result2 = grid.fit(X_train, y_train)"
   ]
  },
  {
   "cell_type": "code",
   "execution_count": null,
   "id": "26c8f362",
   "metadata": {},
   "outputs": [],
   "source": [
    "# Print the best hyperparameters\n",
    "\n",
    "print(\"Best: %f using %s\" % (grid_result2.best_score_, grid_result2.best_params_))"
   ]
  },
  {
   "cell_type": "code",
   "execution_count": null,
   "id": "08485606",
   "metadata": {},
   "outputs": [],
   "source": [
    "# Create the best model using the best hyperparameters\n",
    "best_model2 = create_model(optimizer=grid_result.best_params_['optimizer'], \n",
    "                          neurons_layer1=grid_result.best_params_['neurons_layer1'],\n",
    "                          neurons_layer2=grid_result.best_params_['neurons_layer2'])"
   ]
  },
  {
   "cell_type": "code",
   "execution_count": null,
   "id": "7f881da9",
   "metadata": {},
   "outputs": [],
   "source": [
    "# Fit the best model\n",
    "best_model2.fit(X_train2, y_train2, epochs=grid_result.best_params_['epochs'], \n",
    "               batch_size=grid_result.best_params_['batch_size'], verbose=1)"
   ]
  },
  {
   "cell_type": "code",
   "execution_count": null,
   "id": "0eb65477",
   "metadata": {},
   "outputs": [],
   "source": [
    "# Evaluate the model on test data\n",
    "score2 = best_model2.evaluate(X_test2, y_test2, verbose=0)"
   ]
  },
  {
   "cell_type": "code",
   "execution_count": null,
   "id": "8a8dea4f",
   "metadata": {},
   "outputs": [],
   "source": [
    "print(f'Test loss for studied_credits: {score2[0]}')\n",
    "print(f'Test accuracy studied_credits: {score2[1]}')\n"
   ]
  },
  {
   "cell_type": "markdown",
   "id": "f17a7944",
   "metadata": {},
   "source": [
    "### Fit and tune with model for variable 3 - tenure"
   ]
  },
  {
   "cell_type": "code",
   "execution_count": null,
   "id": "a66268df",
   "metadata": {},
   "outputs": [],
   "source": [
    "# Perform grid search using GridSearchCV\n",
    "\n",
    "grid3 = GridSearchCV(estimator=model, param_grid=param_grid, cv=3)\n",
    "\n",
    "grid_result3 = grid3.fit(X_train3, y_train3)"
   ]
  },
  {
   "cell_type": "code",
   "execution_count": null,
   "id": "ba610269",
   "metadata": {},
   "outputs": [],
   "source": [
    "# Print the best hyperparameters\n",
    "\n",
    "print(\"Best: %f using %s\" % (grid_result3.best_score_, grid_result3.best_params_))"
   ]
  },
  {
   "cell_type": "code",
   "execution_count": null,
   "id": "4e732a44",
   "metadata": {},
   "outputs": [],
   "source": [
    "# Create the best model using the best hyperparameters\n",
    "best_model3 = create_model(optimizer=grid_result.best_params_['optimizer'], \n",
    "                          neurons_layer1=grid_result.best_params_['neurons_layer1'],\n",
    "                          neurons_layer2=grid_result.best_params_['neurons_layer2'])"
   ]
  },
  {
   "cell_type": "code",
   "execution_count": null,
   "id": "e4c8223b",
   "metadata": {},
   "outputs": [],
   "source": [
    "# Fit the best model\n",
    "best_model3.fit(X_train3, y_train3, epochs=grid_result.best_params_['epochs'], \n",
    "               batch_size=grid_result.best_params_['batch_size'], verbose=1)"
   ]
  },
  {
   "cell_type": "code",
   "execution_count": null,
   "id": "8244b4bd",
   "metadata": {},
   "outputs": [],
   "source": [
    "# Evaluate the model on test data\n",
    "score3 = best_model3.evaluate(X_test, y_test, verbose=0)"
   ]
  },
  {
   "cell_type": "code",
   "execution_count": null,
   "id": "c09e3c01",
   "metadata": {},
   "outputs": [],
   "source": [
    "print(f'Test loss for tenure: {score3[0]}')\n",
    "print(f'Test accuracy tenure: {score3[1]}')"
   ]
  },
  {
   "cell_type": "code",
   "execution_count": null,
   "id": "a94e5595",
   "metadata": {},
   "outputs": [],
   "source": []
  },
  {
   "cell_type": "code",
   "execution_count": null,
   "id": "689ffc22",
   "metadata": {},
   "outputs": [],
   "source": []
  },
  {
   "cell_type": "markdown",
   "id": "5f282bc6",
   "metadata": {},
   "source": [
    "### Display the results of all 3 tests"
   ]
  },
  {
   "cell_type": "code",
   "execution_count": null,
   "id": "23421aa9",
   "metadata": {},
   "outputs": [],
   "source": [
    "algorithm_5_results = {'gender': [{score[1]}], \n",
    "        'studied_credits': [{score2[1]}], \n",
    "        'Tenure':[{score3[1]}]}\n",
    "\n",
    "print(tabulate(algorithm_5_results, headers='keys', tablefmt='fancy_grid'))"
   ]
  },
  {
   "cell_type": "code",
   "execution_count": null,
   "id": "b29cd55c",
   "metadata": {},
   "outputs": [],
   "source": []
  }
 ],
 "metadata": {
  "kernelspec": {
   "display_name": "Python 3 (ipykernel)",
   "language": "python",
   "name": "python3"
  },
  "language_info": {
   "codemirror_mode": {
    "name": "ipython",
    "version": 3
   },
   "file_extension": ".py",
   "mimetype": "text/x-python",
   "name": "python",
   "nbconvert_exporter": "python",
   "pygments_lexer": "ipython3",
   "version": "3.9.12"
  }
 },
 "nbformat": 4,
 "nbformat_minor": 5
}
