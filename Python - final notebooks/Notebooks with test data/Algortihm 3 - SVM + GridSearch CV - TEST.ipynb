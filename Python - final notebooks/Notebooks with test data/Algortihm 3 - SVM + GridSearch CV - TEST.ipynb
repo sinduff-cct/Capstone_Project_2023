{
 "cells": [
  {
   "cell_type": "code",
   "execution_count": 4,
   "id": "fb907a0a",
   "metadata": {},
   "outputs": [],
   "source": [
    "# Import libraries\n",
    "\n",
    "import pandas as pd\n",
    "import numpy as np\n",
    "import seaborn as sns #visualisation\n",
    "import matplotlib.pyplot as plt #visualisation\n",
    "\n",
    "%matplotlib inline \n",
    "sns.set(color_codes=True)"
   ]
  },
  {
   "cell_type": "code",
   "execution_count": 5,
   "id": "5a7c38f9",
   "metadata": {},
   "outputs": [],
   "source": [
    "# read in the .csv file - of filtered student_info\n",
    "\n",
    "data_df = pd.read_csv(\"test_data.csv\")"
   ]
  },
  {
   "cell_type": "code",
   "execution_count": 6,
   "id": "9eb1e688",
   "metadata": {},
   "outputs": [
    {
     "name": "stdout",
     "output_type": "stream",
     "text": [
      "<class 'pandas.core.frame.DataFrame'>\n",
      "RangeIndex: 749 entries, 0 to 748\n",
      "Data columns (total 16 columns):\n",
      " #   Column                                         Non-Null Count  Dtype\n",
      "---  ------                                         --------------  -----\n",
      " 0   id_student                                     749 non-null    int64\n",
      " 1   gender                                         749 non-null    int64\n",
      " 2   studied_credits                                749 non-null    int64\n",
      " 3   tenure                                         749 non-null    int64\n",
      " 4   highest_education_A Level or Equivalent        749 non-null    int64\n",
      " 5   highest_education_HE Qualification             749 non-null    int64\n",
      " 6   highest_education_Lower Than A Level           749 non-null    int64\n",
      " 7   highest_education_No Formal quals              749 non-null    int64\n",
      " 8   highest_education_Post Graduate Qualification  749 non-null    int64\n",
      " 9   age_band_0-35                                  749 non-null    int64\n",
      " 10  age_band_35-55                                 749 non-null    int64\n",
      " 11  age_band_55<=                                  749 non-null    int64\n",
      " 12  final_result_Distinction                       749 non-null    int64\n",
      " 13  final_result_Fail                              749 non-null    int64\n",
      " 14  final_result_Pass                              749 non-null    int64\n",
      " 15  final_result_Withdrawn                         749 non-null    int64\n",
      "dtypes: int64(16)\n",
      "memory usage: 93.8 KB\n"
     ]
    }
   ],
   "source": [
    "#data_df.info()"
   ]
  },
  {
   "cell_type": "markdown",
   "id": "ded61017",
   "metadata": {},
   "source": [
    "### Algorithm 3 - Support Vector Machine (SVM)"
   ]
  },
  {
   "cell_type": "code",
   "execution_count": 7,
   "id": "7d42d225",
   "metadata": {},
   "outputs": [],
   "source": [
    "# import libraries\n",
    "from sklearn.model_selection import train_test_split, GridSearchCV\n",
    "from sklearn.svm import SVC\n",
    "from sklearn.preprocessing import StandardScaler\n",
    "from sklearn.metrics import accuracy_score, classification_report, confusion_matrix\n"
   ]
  },
  {
   "cell_type": "code",
   "execution_count": 9,
   "id": "666aa0ce",
   "metadata": {},
   "outputs": [],
   "source": [
    "# divide the dataset into features (X) and the target variable (y)\n",
    "\n",
    "# variable 1 = gender\n",
    "X = data_df.drop(columns=['gender'])  # drop target variable from the dataframe\n",
    "y = data_df['gender']        # id target variable \n",
    "\n",
    "# variable 2 = studied_credits\n",
    "X2 = data_df.drop(columns=['studied_credits'])\n",
    "y2 = data_df['studied_credits']\n",
    "\n",
    "# variable 3 = tenure\n",
    "X3 = data_df.drop(columns=['tenure'])\n",
    "y3 = data_df['tenure']"
   ]
  },
  {
   "cell_type": "code",
   "execution_count": 10,
   "id": "e0e9606c",
   "metadata": {},
   "outputs": [],
   "source": [
    "# split the data into training and test sets\n",
    "\n",
    "X_train, X_test, y_train, y_test = train_test_split(X, y, test_size=0.2, random_state=0)\n",
    "X_train2, X_test2, y_train2, y_test2 = train_test_split(X2, y2, test_size=0.2, random_state=0)\n",
    "X_train3, X_test3, y_train3, y_test3 = train_test_split(X3, y3, test_size=0.2, random_state=0)"
   ]
  },
  {
   "cell_type": "code",
   "execution_count": 11,
   "id": "b543a907",
   "metadata": {},
   "outputs": [],
   "source": [
    "# feature scaling (recommended for SVM)\n",
    "\n",
    "scaler = StandardScaler()"
   ]
  },
  {
   "cell_type": "code",
   "execution_count": 12,
   "id": "dfa8099c",
   "metadata": {},
   "outputs": [
    {
     "name": "stderr",
     "output_type": "stream",
     "text": [
      "C:\\Users\\sinea\\Anaconda3\\lib\\site-packages\\sklearn\\base.py:493: FutureWarning: The feature names should match those that were passed during fit. Starting version 1.2, an error will be raised.\n",
      "Feature names unseen at fit time:\n",
      "- tenure\n",
      "Feature names seen at fit time, yet now missing:\n",
      "- gender\n",
      "\n",
      "  warnings.warn(message, FutureWarning)\n",
      "C:\\Users\\sinea\\Anaconda3\\lib\\site-packages\\sklearn\\base.py:493: FutureWarning: The feature names should match those that were passed during fit. Starting version 1.2, an error will be raised.\n",
      "Feature names unseen at fit time:\n",
      "- tenure\n",
      "Feature names seen at fit time, yet now missing:\n",
      "- studied_credits\n",
      "\n",
      "  warnings.warn(message, FutureWarning)\n"
     ]
    }
   ],
   "source": [
    "# scale x dataframes - test and train\n",
    "X_train_scaled = scaler.fit_transform(X_train)\n",
    "X_train_scaled2 = scaler.fit_transform(X_train2)\n",
    "X_train_scaled3 = scaler.fit_transform(X_train3)\n",
    "\n",
    "X_test_scaled = scaler.transform(X_test)\n",
    "X_test_scaled2 = scaler.transform(X_test2)\n",
    "X_test_scaled3 = scaler.transform(X_test3)"
   ]
  },
  {
   "cell_type": "code",
   "execution_count": 14,
   "id": "841a0cba",
   "metadata": {},
   "outputs": [],
   "source": [
    "# create the SVM model\n",
    "# kernels to try ... 'linear', 'rbf' (default), 'poly', 'sigmoid', 'callable'/''\n",
    "\n",
    "svm_model = SVC(kernel='rbf')  "
   ]
  },
  {
   "cell_type": "markdown",
   "id": "01899ea4",
   "metadata": {},
   "source": [
    "### Hyper parameter tuning"
   ]
  },
  {
   "cell_type": "code",
   "execution_count": 16,
   "id": "d0c3d3ba",
   "metadata": {},
   "outputs": [],
   "source": [
    "# defining the hyperparameter grid to search\n",
    "\n",
    "param_grid = {\n",
    "    'C': [0.01, 0.1, 1, 10, 100],       # Regularization parameter\n",
    "    'gamma': [0.001, 0.01, 0.1, 1],      # Kernel coefficient for 'rbf'\n",
    "    'kernel': ['linear', 'poly', 'rbf']  # Different kernels to explore\n",
    "}"
   ]
  },
  {
   "cell_type": "markdown",
   "id": "789f82ae",
   "metadata": {},
   "source": [
    "### Fit and tune with model for variable 1 = gender\n",
    "\n",
    "Hyperparm tuning completed with GridSearch CV\n"
   ]
  },
  {
   "cell_type": "code",
   "execution_count": 17,
   "id": "fed15320",
   "metadata": {},
   "outputs": [],
   "source": [
    "# create the GridSearchCV model with SVM\n",
    "\n",
    "grid_search = GridSearchCV(estimator=svm_model, param_grid=param_grid, cv=5)\n"
   ]
  },
  {
   "cell_type": "code",
   "execution_count": null,
   "id": "d9116672",
   "metadata": {},
   "outputs": [],
   "source": [
    "# train the GridSearchCV model on the scaled training data\n",
    "\n",
    "grid_search.fit(X_train_scaled, y_train)\n"
   ]
  },
  {
   "cell_type": "code",
   "execution_count": null,
   "id": "0be85194",
   "metadata": {},
   "outputs": [],
   "source": [
    "# find the best hyperparameters from the search\n",
    "\n",
    "best_params = grid_search.best_params_"
   ]
  },
  {
   "cell_type": "code",
   "execution_count": null,
   "id": "f657c5a9",
   "metadata": {},
   "outputs": [],
   "source": [
    "# show the best model and retrain classifier \n",
    "\n",
    "#print(\"The best accuracy score using GridSearchCV is\",grid.best_score_)\n",
    "print(\"The best parameters using GridSearchCV are\", best_params_)"
   ]
  },
  {
   "cell_type": "code",
   "execution_count": null,
   "id": "979ff93f",
   "metadata": {},
   "outputs": [],
   "source": [
    "# train the SVM model with the best hyperparameters on the entire training data\n",
    "\n",
    "best_svm_model = SVC(kernel='rbf', C=best_params['C'], gamma=best_params['gamma'])"
   ]
  },
  {
   "cell_type": "code",
   "execution_count": null,
   "id": "333df2a8",
   "metadata": {},
   "outputs": [],
   "source": [
    "# make predictions on the scaled test data\n",
    "\n",
    "y_pred = best_svm_model.predict(X_test_scaled)"
   ]
  },
  {
   "cell_type": "code",
   "execution_count": null,
   "id": "9cc137f1",
   "metadata": {},
   "outputs": [],
   "source": [
    "# calculate the accuracy of the model\n",
    "\n",
    "accuracy = accuracy_score(y_test, y_pred)\n",
    "\n",
    "print(\"Accuracy:\", accuracy)"
   ]
  },
  {
   "cell_type": "code",
   "execution_count": null,
   "id": "3c545df2",
   "metadata": {},
   "outputs": [],
   "source": [
    "# calculate the accuracy of the best model\n",
    "\n",
    "print(\"Best Model Accuracy:\", accuracy)\n",
    "print(\"Best Hyperparameters:\", best_params)"
   ]
  },
  {
   "cell_type": "markdown",
   "id": "1a7e1fc5",
   "metadata": {},
   "source": [
    "### Fit and tune with model for variable 2 = studied_credit¶"
   ]
  },
  {
   "cell_type": "code",
   "execution_count": null,
   "id": "8d754701",
   "metadata": {},
   "outputs": [],
   "source": [
    "# create the GridSearchCV model with SVM\n",
    "\n",
    "grid_search2 = GridSearchCV(estimator=svm_model, param_grid=param_grid, cv=5)"
   ]
  },
  {
   "cell_type": "code",
   "execution_count": null,
   "id": "09f0e6ed",
   "metadata": {},
   "outputs": [],
   "source": [
    "# train the GridSearchCV model on the scaled training data\n",
    "\n",
    "grid_search2.fit(X_train_scaled2, y_train2)"
   ]
  },
  {
   "cell_type": "code",
   "execution_count": null,
   "id": "695d9ee2",
   "metadata": {},
   "outputs": [],
   "source": [
    "# find the best hyperparameters from the search\n",
    "\n",
    "best_params2 = grid_search2.best_params_"
   ]
  },
  {
   "cell_type": "code",
   "execution_count": null,
   "id": "532a1fe3",
   "metadata": {},
   "outputs": [],
   "source": [
    "# train the SVM model with the best hyperparameters on the entire training data\n",
    "\n",
    "best_svm_model2 = SVC(kernel='rbf', C=best_params2['C'], gamma=best_params['gamma'])"
   ]
  },
  {
   "cell_type": "code",
   "execution_count": null,
   "id": "85906bec",
   "metadata": {},
   "outputs": [],
   "source": [
    "# fit the SVM model to the scaled data\n",
    "\n",
    "best_svm_model2.fit(X_train_scaled2, y_train2)"
   ]
  },
  {
   "cell_type": "code",
   "execution_count": null,
   "id": "c2e73e2e",
   "metadata": {},
   "outputs": [],
   "source": [
    "# make predictions on the scaled test data\n",
    "\n",
    "y_pred2 = best_svm_model2.predict(X_test_scaled2)"
   ]
  },
  {
   "cell_type": "code",
   "execution_count": null,
   "id": "45f693c6",
   "metadata": {},
   "outputs": [],
   "source": [
    "# calculate the accuracy of the model\n",
    "\n",
    "accuracy2 = accuracy_score(y_test2, y_pred2)\n",
    "\n",
    "print(\"Accuracy:\", accuracy2)"
   ]
  },
  {
   "cell_type": "code",
   "execution_count": null,
   "id": "26e85eed",
   "metadata": {},
   "outputs": [],
   "source": [
    "# calculate the accuracy of the best model\n",
    "\n",
    "print(\"Best Model Accuracy:\", accuracy2)\n",
    "print(\"Best Hyperparameters:\", best_params2)"
   ]
  },
  {
   "cell_type": "markdown",
   "id": "e47af937",
   "metadata": {},
   "source": [
    "### Fit and tune with model for variable 3 = tenure\n",
    "\n",
    "Hyperparm tuning completed with GridSearch CV\n"
   ]
  },
  {
   "cell_type": "code",
   "execution_count": null,
   "id": "b39945c5",
   "metadata": {},
   "outputs": [],
   "source": [
    "# create the GridSearchCV model with SVM\n",
    "\n",
    "grid_search3 = GridSearchCV(estimator=svm_model, param_grid=param_grid, cv=5)"
   ]
  },
  {
   "cell_type": "code",
   "execution_count": null,
   "id": "9ae98dde",
   "metadata": {},
   "outputs": [],
   "source": [
    "# train the GridSearchCV model on the scaled training data\n",
    "\n",
    "grid_search3.fit(X_train_scaled3, y_train3)"
   ]
  },
  {
   "cell_type": "code",
   "execution_count": null,
   "id": "f8eed203",
   "metadata": {},
   "outputs": [],
   "source": [
    "# find the best hyperparameters from the search\n",
    "\n",
    "best_params3 = grid_search3.best_params_"
   ]
  },
  {
   "cell_type": "code",
   "execution_count": null,
   "id": "775f6cc4",
   "metadata": {},
   "outputs": [],
   "source": [
    "# train the SVM model with the best hyperparameters on the entire training data\n",
    "\n",
    "best_svm_model3 = SVC(kernel='rbf', C=best_params['C'], gamma=best_params['gamma'])"
   ]
  },
  {
   "cell_type": "code",
   "execution_count": null,
   "id": "65b2dca4",
   "metadata": {},
   "outputs": [],
   "source": [
    "# fit the SVM model to the scaled data\n",
    "\n",
    "best_svm_model3.fit(X_train_scaled3, y_train3)"
   ]
  },
  {
   "cell_type": "code",
   "execution_count": null,
   "id": "8aedb2ba",
   "metadata": {},
   "outputs": [],
   "source": [
    "# make predictions on the scaled test data\n",
    "\n",
    "y_pred3 = best_svm_model3.predict(X_test_scaled3)"
   ]
  },
  {
   "cell_type": "code",
   "execution_count": null,
   "id": "8d4c003a",
   "metadata": {},
   "outputs": [],
   "source": [
    "# calculate the accuracy of the model\n",
    "\n",
    "accuracy3 = accuracy_score(y_test3, y_pred3)\n",
    "\n",
    "print(\"Accuracy:\", accuracy3)"
   ]
  },
  {
   "cell_type": "code",
   "execution_count": null,
   "id": "de1ddff6",
   "metadata": {},
   "outputs": [],
   "source": [
    "# calculate the accuracy of the best model\n",
    "\n",
    "print(\"Best Model Accuracy:\", accuracy3)\n",
    "print(\"Best Hyperparameters:\", best_params3)"
   ]
  },
  {
   "cell_type": "code",
   "execution_count": null,
   "id": "7780a3c1",
   "metadata": {},
   "outputs": [],
   "source": []
  },
  {
   "cell_type": "code",
   "execution_count": null,
   "id": "68a9392e",
   "metadata": {},
   "outputs": [],
   "source": []
  }
 ],
 "metadata": {
  "kernelspec": {
   "display_name": "Python 3 (ipykernel)",
   "language": "python",
   "name": "python3"
  },
  "language_info": {
   "codemirror_mode": {
    "name": "ipython",
    "version": 3
   },
   "file_extension": ".py",
   "mimetype": "text/x-python",
   "name": "python",
   "nbconvert_exporter": "python",
   "pygments_lexer": "ipython3",
   "version": "3.9.12"
  }
 },
 "nbformat": 4,
 "nbformat_minor": 5
}
