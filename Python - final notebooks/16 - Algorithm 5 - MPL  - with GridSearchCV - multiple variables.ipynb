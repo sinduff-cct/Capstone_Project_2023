{
 "cells": [
  {
   "cell_type": "code",
   "execution_count": 1,
   "id": "50244ca1",
   "metadata": {},
   "outputs": [],
   "source": [
    "# Import libraries\n",
    "\n",
    "import pandas as pd\n",
    "import numpy as np\n",
    "import seaborn as sns #visualisation\n",
    "import matplotlib.pyplot as plt #visualisation\n",
    "\n",
    "%matplotlib inline \n",
    "sns.set(color_codes=True)"
   ]
  },
  {
   "cell_type": "code",
   "execution_count": 2,
   "id": "6b382775",
   "metadata": {},
   "outputs": [],
   "source": [
    "# read in the .csv file - of filtered student_info\n",
    "\n",
    "data_df = pd.read_csv(\"C:/Users/sinea/OneDrive/Documents OneDrive/06 - CCT Masters in DA/Capstone - 2023/Capstone_Project_2023/Python workings notebooks/filtered_df2.csv\")"
   ]
  },
  {
   "cell_type": "code",
   "execution_count": 3,
   "id": "116e344f",
   "metadata": {},
   "outputs": [],
   "source": [
    "#data_df.info()"
   ]
  },
  {
   "cell_type": "markdown",
   "id": "884cfb5a",
   "metadata": {},
   "source": [
    "### One-Hot Encoding - categorical data"
   ]
  },
  {
   "cell_type": "code",
   "execution_count": 4,
   "id": "2500d0c6",
   "metadata": {},
   "outputs": [],
   "source": [
    "# One-Hot Encoding for 'highest_education', 'age_band', 'final_result', 'tenure_band'\n",
    "\n",
    "data_df_encoded = pd.get_dummies(data_df, columns=['highest_education', 'age_band', 'final_result'])"
   ]
  },
  {
   "cell_type": "code",
   "execution_count": 5,
   "id": "4b5db130",
   "metadata": {},
   "outputs": [],
   "source": [
    "# convert the dtype of the recently one-hot encoded columns to int64 from uint8 dtype\n",
    "\n",
    "columns_to_convert = [\n",
    "    'highest_education_A Level or Equivalent',\n",
    "    'highest_education_HE Qualification',\n",
    "    'highest_education_Lower Than A Level',\n",
    "    'highest_education_Post Graduate Qualification',\n",
    "    'age_band_0-35',\n",
    "    'age_band_35-55',\n",
    "    'age_band_55<=',\n",
    "    'final_result_Distinction',\n",
    "    'final_result_Fail',\n",
    "    'final_result_Pass',\n",
    "    'final_result_Withdrawn', \n",
    "]\n",
    "\n",
    "# Convert the selected columns to int64 dtype\n",
    "data_df_encoded[columns_to_convert] = data_df_encoded[columns_to_convert].astype('int64')"
   ]
  },
  {
   "cell_type": "code",
   "execution_count": 6,
   "id": "501cd892",
   "metadata": {},
   "outputs": [
    {
     "name": "stdout",
     "output_type": "stream",
     "text": [
      "<class 'pandas.core.frame.DataFrame'>\n",
      "RangeIndex: 383 entries, 0 to 382\n",
      "Data columns (total 15 columns):\n",
      " #   Column                                         Non-Null Count  Dtype\n",
      "---  ------                                         --------------  -----\n",
      " 0   id_student                                     383 non-null    int64\n",
      " 1   gender                                         383 non-null    int64\n",
      " 2   studied_credits                                383 non-null    int64\n",
      " 3   tenure                                         383 non-null    int64\n",
      " 4   highest_education_A Level or Equivalent        383 non-null    int64\n",
      " 5   highest_education_HE Qualification             383 non-null    int64\n",
      " 6   highest_education_Lower Than A Level           383 non-null    int64\n",
      " 7   highest_education_Post Graduate Qualification  383 non-null    int64\n",
      " 8   age_band_0-35                                  383 non-null    int64\n",
      " 9   age_band_35-55                                 383 non-null    int64\n",
      " 10  age_band_55<=                                  383 non-null    int64\n",
      " 11  final_result_Distinction                       383 non-null    int64\n",
      " 12  final_result_Fail                              383 non-null    int64\n",
      " 13  final_result_Pass                              383 non-null    int64\n",
      " 14  final_result_Withdrawn                         383 non-null    int64\n",
      "dtypes: int64(15)\n",
      "memory usage: 45.0 KB\n"
     ]
    }
   ],
   "source": [
    "data_df_encoded.info()"
   ]
  },
  {
   "cell_type": "markdown",
   "id": "8596eaa3",
   "metadata": {},
   "source": [
    "### Algorithm 5 - Multilayer Perceptron (MLP)"
   ]
  },
  {
   "cell_type": "code",
   "execution_count": 7,
   "id": "54a27cba",
   "metadata": {},
   "outputs": [],
   "source": [
    "# machine learning libraries\n",
    "from sklearn.model_selection import GridSearchCV\n",
    "from sklearn.model_selection import train_test_split\n",
    "\n",
    "# model layers\n",
    "from keras.models import Sequential\n",
    "from keras.layers import Dense\n",
    "from keras.wrappers.scikit_learn import KerasClassifier"
   ]
  },
  {
   "cell_type": "markdown",
   "id": "9e94a50a",
   "metadata": {},
   "source": [
    "### Hyperparameter Tuning with GridSearchCV\n",
    "\n",
    "#### References \n",
    "1. https://machinelearningmastery.com/grid-search-hyperparameters-deep-learning-models-python-keras/\n",
    "2. https://machinelearningmastery.com/use-keras-deep-learning-models-scikit-learn-python/\n",
    "3. https://www.geeksforgeeks.org/hyperparameter-tuning-using-gridsearchcv-and-kerasclassifier/"
   ]
  },
  {
   "cell_type": "code",
   "execution_count": 8,
   "id": "49d435b2",
   "metadata": {},
   "outputs": [],
   "source": [
    "# Function to create and return the Keras model\n",
    "\n",
    "def create_model(optimizer='adam', neurons_layer1=20, neurons_layer2=10):\n",
    "    \n",
    "    model = Sequential()\n",
    "    \n",
    "    # Hidden layer 1 with neuron count taken from the param_grid values, and relu as the activation function\n",
    "    model.add(Dense(neurons_layer1, input_dim=X_train.shape[1], activation='relu'))\n",
    "    \n",
    "    # Hidden layer 2 with neuron count taken from the param_grid values, and relu as the activation function\n",
    "    model.add(Dense(neurons_layer2, activation='relu'))\n",
    "    \n",
    "    # Final layer with 1 neuron, and sigmoid as the activation function\n",
    "    # use 'softmax' for multiclass classification\n",
    "    model.add(Dense(1, activation='sigmoid'))\n",
    "    \n",
    "    # compile the model\n",
    "    # use 'categorical_crossentropy' for multiclass classification\n",
    "    model.compile(loss='binary_crossentropy', optimizer=optimizer, metrics=['accuracy'])\n",
    "    \n",
    "    return model"
   ]
  },
  {
   "cell_type": "code",
   "execution_count": 9,
   "id": "cf36f44c",
   "metadata": {},
   "outputs": [
    {
     "name": "stderr",
     "output_type": "stream",
     "text": [
      "C:\\Users\\sinea\\AppData\\Local\\Temp\\ipykernel_11504\\1664165213.py:2: DeprecationWarning: KerasClassifier is deprecated, use Sci-Keras (https://github.com/adriangb/scikeras) instead. See https://www.adriangb.com/scikeras/stable/migration.html for help migrating.\n",
      "  model = KerasClassifier(build_fn=create_model, epochs=10, batch_size=32, verbose=0)\n"
     ]
    }
   ],
   "source": [
    "# Wrap the model using KerasClassifier \n",
    "model = KerasClassifier(build_fn=create_model, epochs=10, batch_size=32, verbose=0)\n"
   ]
  },
  {
   "cell_type": "code",
   "execution_count": 10,
   "id": "fc87ffa9",
   "metadata": {},
   "outputs": [],
   "source": [
    "# Define hyperparameter grid\n",
    "param_grid = {\n",
    "    'optimizer': ['SGD', 'RMSprop', 'Adam'],\n",
    "    'batch_size': [16, 32, 64],\n",
    "    'neurons_layer1': [10, 20, 30],\n",
    "    'neurons_layer2': [5, 10, 15],\n",
    "    'epochs': [10, 20]\n",
    "}"
   ]
  },
  {
   "cell_type": "code",
   "execution_count": 11,
   "id": "7b65d048",
   "metadata": {},
   "outputs": [],
   "source": [
    "# divide the dataset into features (X) and the target variable (y)\n",
    "\n",
    "# variable 1 = gender\n",
    "X = data_df_encoded.drop(columns=['gender'])  # drop target variable from the dataframe\n",
    "y = data_df_encoded['gender']        # id target variable \n",
    "\n",
    "# variable 2 = studied_credits\n",
    "X2 = data_df_encoded.drop(columns=['studied_credits'])\n",
    "y2 = data_df_encoded['studied_credits']\n",
    "\n",
    "# variable 3 = tenure\n",
    "X3 = data_df_encoded.drop(columns=['tenure'])\n",
    "y3 = data_df_encoded['tenure']"
   ]
  },
  {
   "cell_type": "code",
   "execution_count": 12,
   "id": "0e339949",
   "metadata": {},
   "outputs": [],
   "source": [
    "# split the data into training and test sets\n",
    "\n",
    "X_train, X_test, y_train, y_test = train_test_split(X, y, test_size=0.2, random_state=0)\n",
    "X_train2, X_test2, y_train2, y_test2 = train_test_split(X2, y2, test_size=0.2, random_state=0)\n",
    "X_train3, X_test3, y_train3, y_test3 = train_test_split(X3, y3, test_size=0.2, random_state=0)"
   ]
  },
  {
   "cell_type": "markdown",
   "id": "d50126c3",
   "metadata": {},
   "source": [
    "### Fit and tune with model for variable 1 = gender "
   ]
  },
  {
   "cell_type": "code",
   "execution_count": 13,
   "id": "d0362157",
   "metadata": {},
   "outputs": [
    {
     "name": "stdout",
     "output_type": "stream",
     "text": [
      "WARNING:tensorflow:5 out of the last 13 calls to <function Model.make_test_function.<locals>.test_function at 0x0000025AD458C820> triggered tf.function retracing. Tracing is expensive and the excessive number of tracings could be due to (1) creating @tf.function repeatedly in a loop, (2) passing tensors with different shapes, (3) passing Python objects instead of tensors. For (1), please define your @tf.function outside of the loop. For (2), @tf.function has reduce_retracing=True option that can avoid unnecessary retracing. For (3), please refer to https://www.tensorflow.org/guide/function#controlling_retracing and https://www.tensorflow.org/api_docs/python/tf/function for  more details.\n",
      "WARNING:tensorflow:5 out of the last 11 calls to <function Model.make_test_function.<locals>.test_function at 0x0000025AE0897C10> triggered tf.function retracing. Tracing is expensive and the excessive number of tracings could be due to (1) creating @tf.function repeatedly in a loop, (2) passing tensors with different shapes, (3) passing Python objects instead of tensors. For (1), please define your @tf.function outside of the loop. For (2), @tf.function has reduce_retracing=True option that can avoid unnecessary retracing. For (3), please refer to https://www.tensorflow.org/guide/function#controlling_retracing and https://www.tensorflow.org/api_docs/python/tf/function for  more details.\n"
     ]
    }
   ],
   "source": [
    "# Perform grid search using GridSearchCV\n",
    "\n",
    "grid = GridSearchCV(estimator=model, param_grid=param_grid, cv=3)\n",
    "\n",
    "grid_result = grid.fit(X_train, y_train)"
   ]
  },
  {
   "cell_type": "code",
   "execution_count": 14,
   "id": "639fc6c2",
   "metadata": {},
   "outputs": [
    {
     "name": "stdout",
     "output_type": "stream",
     "text": [
      "Best: 0.637255 using {'batch_size': 32, 'epochs': 10, 'neurons_layer1': 30, 'neurons_layer2': 5, 'optimizer': 'Adam'}\n"
     ]
    }
   ],
   "source": [
    "# Print the best hyperparameters\n",
    "\n",
    "print(\"Best: %f using %s\" % (grid_result.best_score_, grid_result.best_params_))"
   ]
  },
  {
   "cell_type": "code",
   "execution_count": 15,
   "id": "d51105a4",
   "metadata": {},
   "outputs": [],
   "source": [
    "# Create the best model using the best hyperparameters\n",
    "best_model = create_model(optimizer=grid_result.best_params_['optimizer'], \n",
    "                          neurons_layer1=grid_result.best_params_['neurons_layer1'],\n",
    "                          neurons_layer2=grid_result.best_params_['neurons_layer2'])"
   ]
  },
  {
   "cell_type": "code",
   "execution_count": 16,
   "id": "b7fec0ad",
   "metadata": {},
   "outputs": [
    {
     "name": "stdout",
     "output_type": "stream",
     "text": [
      "Epoch 1/10\n",
      "10/10 [==============================] - 1s 4ms/step - loss: 96253.6953 - accuracy: 0.3791\n",
      "Epoch 2/10\n",
      "10/10 [==============================] - 0s 4ms/step - loss: 27751.0430 - accuracy: 0.3791\n",
      "Epoch 3/10\n",
      "10/10 [==============================] - 0s 5ms/step - loss: 11388.9688 - accuracy: 0.3791\n",
      "Epoch 4/10\n",
      "10/10 [==============================] - 0s 6ms/step - loss: 5844.5659 - accuracy: 0.3791\n",
      "Epoch 5/10\n",
      "10/10 [==============================] - 0s 6ms/step - loss: 1065.2595 - accuracy: 0.5229\n",
      "Epoch 6/10\n",
      "10/10 [==============================] - 0s 4ms/step - loss: 0.6874 - accuracy: 0.6209\n",
      "Epoch 7/10\n",
      "10/10 [==============================] - 0s 4ms/step - loss: 0.6869 - accuracy: 0.6209\n",
      "Epoch 8/10\n",
      "10/10 [==============================] - 0s 4ms/step - loss: 0.6866 - accuracy: 0.6209\n",
      "Epoch 9/10\n",
      "10/10 [==============================] - 0s 4ms/step - loss: 0.6863 - accuracy: 0.6209\n",
      "Epoch 10/10\n",
      "10/10 [==============================] - 0s 4ms/step - loss: 0.6861 - accuracy: 0.6209\n"
     ]
    },
    {
     "data": {
      "text/plain": [
       "<keras.callbacks.History at 0x25ad87459a0>"
      ]
     },
     "execution_count": 16,
     "metadata": {},
     "output_type": "execute_result"
    }
   ],
   "source": [
    "# Fit the best model\n",
    "best_model.fit(X_train, y_train, epochs=grid_result.best_params_['epochs'], \n",
    "               batch_size=grid_result.best_params_['batch_size'], verbose=1)"
   ]
  },
  {
   "cell_type": "code",
   "execution_count": 17,
   "id": "bd5500de",
   "metadata": {},
   "outputs": [],
   "source": [
    "# Evaluate the model on test data\n",
    "score = best_model.evaluate(X_test, y_test, verbose=0)"
   ]
  },
  {
   "cell_type": "code",
   "execution_count": 18,
   "id": "ffd929f0",
   "metadata": {},
   "outputs": [
    {
     "name": "stdout",
     "output_type": "stream",
     "text": [
      "Test loss for gender: 0.6890928149223328\n",
      "Test accuracy gender: 0.5714285969734192\n"
     ]
    }
   ],
   "source": [
    "print(f'Test loss for gender: {score[0]}')\n",
    "print(f'Test accuracy gender: {score[1]}')\n"
   ]
  },
  {
   "cell_type": "markdown",
   "id": "5bc87831",
   "metadata": {},
   "source": [
    "### Fit and tune with model for variable 2 = studied_credits "
   ]
  },
  {
   "cell_type": "code",
   "execution_count": 19,
   "id": "57051fa2",
   "metadata": {},
   "outputs": [],
   "source": [
    "# Perform grid search using GridSearchCV\n",
    "\n",
    "grid2 = GridSearchCV(estimator=model, param_grid=param_grid, cv=3)\n",
    "\n",
    "grid_result2 = grid.fit(X_train, y_train)"
   ]
  },
  {
   "cell_type": "code",
   "execution_count": 20,
   "id": "5eec42b1",
   "metadata": {},
   "outputs": [
    {
     "name": "stdout",
     "output_type": "stream",
     "text": [
      "Best: 0.633987 using {'batch_size': 16, 'epochs': 10, 'neurons_layer1': 10, 'neurons_layer2': 10, 'optimizer': 'Adam'}\n"
     ]
    }
   ],
   "source": [
    "# Print the best hyperparameters\n",
    "\n",
    "print(\"Best: %f using %s\" % (grid_result2.best_score_, grid_result2.best_params_))"
   ]
  },
  {
   "cell_type": "code",
   "execution_count": 21,
   "id": "f0a7d317",
   "metadata": {},
   "outputs": [],
   "source": [
    "# Create the best model using the best hyperparameters\n",
    "best_model2 = create_model(optimizer=grid_result.best_params_['optimizer'], \n",
    "                          neurons_layer1=grid_result.best_params_['neurons_layer1'],\n",
    "                          neurons_layer2=grid_result.best_params_['neurons_layer2'])"
   ]
  },
  {
   "cell_type": "code",
   "execution_count": 22,
   "id": "efc78fae",
   "metadata": {},
   "outputs": [
    {
     "name": "stdout",
     "output_type": "stream",
     "text": [
      "Epoch 1/10\n",
      "20/20 [==============================] - 1s 4ms/step - loss: 4508895.5000 - accuracy: 0.0000e+00\n",
      "Epoch 2/10\n",
      "20/20 [==============================] - 0s 6ms/step - loss: -4397970.5000 - accuracy: 0.0000e+00\n",
      "Epoch 3/10\n",
      "20/20 [==============================] - 0s 5ms/step - loss: -11942966.0000 - accuracy: 0.0000e+00\n",
      "Epoch 4/10\n",
      "20/20 [==============================] - 0s 4ms/step - loss: -18680560.0000 - accuracy: 0.0000e+00\n",
      "Epoch 5/10\n",
      "20/20 [==============================] - 0s 4ms/step - loss: -25368348.0000 - accuracy: 0.0000e+00\n",
      "Epoch 6/10\n",
      "20/20 [==============================] - 0s 4ms/step - loss: -32056066.0000 - accuracy: 0.0000e+00\n",
      "Epoch 7/10\n",
      "20/20 [==============================] - 0s 4ms/step - loss: -38562528.0000 - accuracy: 0.0000e+00\n",
      "Epoch 8/10\n",
      "20/20 [==============================] - 0s 4ms/step - loss: -45925768.0000 - accuracy: 0.0000e+00\n",
      "Epoch 9/10\n",
      "20/20 [==============================] - 0s 4ms/step - loss: -55481284.0000 - accuracy: 0.0000e+00\n",
      "Epoch 10/10\n",
      "20/20 [==============================] - 0s 4ms/step - loss: -66968872.0000 - accuracy: 0.0000e+00\n"
     ]
    },
    {
     "data": {
      "text/plain": [
       "<keras.callbacks.History at 0x25ad45a8820>"
      ]
     },
     "execution_count": 22,
     "metadata": {},
     "output_type": "execute_result"
    }
   ],
   "source": [
    "# Fit the best model\n",
    "best_model2.fit(X_train2, y_train2, epochs=grid_result.best_params_['epochs'], \n",
    "               batch_size=grid_result.best_params_['batch_size'], verbose=1)"
   ]
  },
  {
   "cell_type": "code",
   "execution_count": 23,
   "id": "ca8044b4",
   "metadata": {},
   "outputs": [],
   "source": [
    "# Evaluate the model on test data\n",
    "score2 = best_model2.evaluate(X_test2, y_test2, verbose=0)"
   ]
  },
  {
   "cell_type": "code",
   "execution_count": 24,
   "id": "94697d44",
   "metadata": {},
   "outputs": [
    {
     "name": "stdout",
     "output_type": "stream",
     "text": [
      "Test loss for studied_credits: -71067648.0\n",
      "Test accuracy studied_credits: 0.0\n"
     ]
    }
   ],
   "source": [
    "print(f'Test loss for studied_credits: {score2[0]}')\n",
    "print(f'Test accuracy studied_credits: {score2[1]}')\n"
   ]
  },
  {
   "cell_type": "markdown",
   "id": "17731aa5",
   "metadata": {},
   "source": [
    "### Fit and tune with model for variable 3 = tenure¶"
   ]
  },
  {
   "cell_type": "code",
   "execution_count": 25,
   "id": "a1a75d4f",
   "metadata": {},
   "outputs": [],
   "source": [
    "# Perform grid search using GridSearchCV\n",
    "\n",
    "grid3 = GridSearchCV(estimator=model, param_grid=param_grid, cv=3)\n",
    "\n",
    "grid_result3 = grid3.fit(X_train3, y_train3)"
   ]
  },
  {
   "cell_type": "code",
   "execution_count": 26,
   "id": "2789adf3",
   "metadata": {},
   "outputs": [
    {
     "name": "stdout",
     "output_type": "stream",
     "text": [
      "Best: 0.075163 using {'batch_size': 16, 'epochs': 10, 'neurons_layer1': 10, 'neurons_layer2': 5, 'optimizer': 'SGD'}\n"
     ]
    }
   ],
   "source": [
    "# Print the best hyperparameters\n",
    "\n",
    "print(\"Best: %f using %s\" % (grid_result3.best_score_, grid_result3.best_params_))"
   ]
  },
  {
   "cell_type": "code",
   "execution_count": 27,
   "id": "3f427423",
   "metadata": {},
   "outputs": [],
   "source": [
    "# Create the best model using the best hyperparameters\n",
    "best_model3 = create_model(optimizer=grid_result.best_params_['optimizer'], \n",
    "                          neurons_layer1=grid_result.best_params_['neurons_layer1'],\n",
    "                          neurons_layer2=grid_result.best_params_['neurons_layer2'])"
   ]
  },
  {
   "cell_type": "code",
   "execution_count": 28,
   "id": "6d8a0718",
   "metadata": {},
   "outputs": [
    {
     "name": "stdout",
     "output_type": "stream",
     "text": [
      "Epoch 1/10\n",
      "20/20 [==============================] - 1s 4ms/step - loss: -498646.0625 - accuracy: 0.0490\n",
      "Epoch 2/10\n",
      "20/20 [==============================] - 0s 6ms/step - loss: -1336631.7500 - accuracy: 0.0490\n",
      "Epoch 3/10\n",
      "20/20 [==============================] - 0s 4ms/step - loss: -2260736.0000 - accuracy: 0.0490\n",
      "Epoch 4/10\n",
      "20/20 [==============================] - 0s 4ms/step - loss: -3239205.7500 - accuracy: 0.0490\n",
      "Epoch 5/10\n",
      "20/20 [==============================] - 0s 4ms/step - loss: -4394286.0000 - accuracy: 0.0490\n",
      "Epoch 6/10\n",
      "20/20 [==============================] - 0s 4ms/step - loss: -5953098.5000 - accuracy: 0.0490\n",
      "Epoch 7/10\n",
      "20/20 [==============================] - 0s 4ms/step - loss: -7836064.0000 - accuracy: 0.0490\n",
      "Epoch 8/10\n",
      "20/20 [==============================] - 0s 4ms/step - loss: -10200360.0000 - accuracy: 0.0490\n",
      "Epoch 9/10\n",
      "20/20 [==============================] - 0s 4ms/step - loss: -13086676.0000 - accuracy: 0.0490\n",
      "Epoch 10/10\n",
      "20/20 [==============================] - 0s 4ms/step - loss: -16613851.0000 - accuracy: 0.0490\n"
     ]
    },
    {
     "data": {
      "text/plain": [
       "<keras.callbacks.History at 0x25ae4a48a00>"
      ]
     },
     "execution_count": 28,
     "metadata": {},
     "output_type": "execute_result"
    }
   ],
   "source": [
    "# Fit the best model\n",
    "best_model3.fit(X_train3, y_train3, epochs=grid_result.best_params_['epochs'], \n",
    "               batch_size=grid_result.best_params_['batch_size'], verbose=1)"
   ]
  },
  {
   "cell_type": "code",
   "execution_count": 29,
   "id": "e22302e3",
   "metadata": {},
   "outputs": [],
   "source": [
    "# Evaluate the model on test data\n",
    "score3 = best_model3.evaluate(X_test, y_test, verbose=0)"
   ]
  },
  {
   "cell_type": "code",
   "execution_count": 30,
   "id": "90228297",
   "metadata": {},
   "outputs": [
    {
     "name": "stdout",
     "output_type": "stream",
     "text": [
      "Test loss for tenure: 1143146.625\n",
      "Test accuracy tenure: 0.4285714328289032\n"
     ]
    }
   ],
   "source": [
    "print(f'Test loss for tenure: {score3[0]}')\n",
    "print(f'Test accuracy tenure: {score3[1]}')"
   ]
  },
  {
   "cell_type": "code",
   "execution_count": null,
   "id": "7448d386",
   "metadata": {},
   "outputs": [],
   "source": []
  },
  {
   "cell_type": "code",
   "execution_count": null,
   "id": "a0a49287",
   "metadata": {},
   "outputs": [],
   "source": []
  },
  {
   "cell_type": "code",
   "execution_count": null,
   "id": "53447ada",
   "metadata": {},
   "outputs": [],
   "source": []
  },
  {
   "cell_type": "markdown",
   "id": "f24e2c01",
   "metadata": {},
   "source": [
    "### Plotting the Output"
   ]
  },
  {
   "cell_type": "code",
   "execution_count": 31,
   "id": "3beb68e9",
   "metadata": {
    "scrolled": false
   },
   "outputs": [],
   "source": [
    "# fit the model and store the output for graphing\n",
    "#history = model.fit(X_train, y_train, epochs=10, batch_size=32)\n",
    "#history2 = model.fit(X_train2, y_train2, epochs=10, batch_size=32)\n",
    "#history3 = model.fit(X_train3, y_train3, epochs=10, batch_size=32)"
   ]
  },
  {
   "cell_type": "code",
   "execution_count": 32,
   "id": "22925e46",
   "metadata": {},
   "outputs": [],
   "source": [
    "# Plotting the accuracy\n",
    "#plt.figure(figsize=(5,5))\n",
    "#plt.plot(history.history['accuracy'])\n",
    "#plt.title('Model Accuracy')\n",
    "#plt.ylabel('Accuracy')\n",
    "#plt.xlabel('Epoch')\n",
    "#plt.legend(['Train'])\n"
   ]
  },
  {
   "cell_type": "code",
   "execution_count": 33,
   "id": "98d8cbdd",
   "metadata": {},
   "outputs": [],
   "source": [
    "# Plotting the loss\n",
    "#plt.figure(figsize=(5,5))\n",
    "#plt.plot(history.history['loss'])\n",
    "#plt.title('Model Loss')\n",
    "#plt.ylabel('Loss')\n",
    "#plt.xlabel('Epoch')\n",
    "#plt.legend(['Train'])\n",
    "#plt.show()"
   ]
  },
  {
   "cell_type": "code",
   "execution_count": null,
   "id": "a8fde000",
   "metadata": {},
   "outputs": [],
   "source": []
  }
 ],
 "metadata": {
  "kernelspec": {
   "display_name": "Python 3 (ipykernel)",
   "language": "python",
   "name": "python3"
  },
  "language_info": {
   "codemirror_mode": {
    "name": "ipython",
    "version": 3
   },
   "file_extension": ".py",
   "mimetype": "text/x-python",
   "name": "python",
   "nbconvert_exporter": "python",
   "pygments_lexer": "ipython3",
   "version": "3.9.12"
  }
 },
 "nbformat": 4,
 "nbformat_minor": 5
}
