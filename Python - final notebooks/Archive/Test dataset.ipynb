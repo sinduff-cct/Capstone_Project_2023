{
 "cells": [
  {
   "cell_type": "markdown",
   "id": "0c9daaf2",
   "metadata": {},
   "source": [
    "### Creation of Dataset to check for overfitting or underfitting\n",
    "\n",
    "Create a dataset from a second divide of the OULAD data to identify if results display the same characteristics as selected dataset"
   ]
  },
  {
   "cell_type": "code",
   "execution_count": 1,
   "id": "4f75c59a",
   "metadata": {},
   "outputs": [],
   "source": [
    "import numpy as np\n",
    "import pandas as pd\n"
   ]
  },
  {
   "cell_type": "code",
   "execution_count": 4,
   "id": "8c759867",
   "metadata": {},
   "outputs": [],
   "source": [
    "# read in file - studentInfo.csv\n",
    "file_path = r\"C:\\Users\\sinea\\OneDrive\\Documents OneDrive\\06 - CCT Masters in DA\\Capstone - 2023\\uci-open-university-learning-analytics-dataset\\studentInfo.csv\"\n",
    "\n",
    "studentInfo_df = pd.read_csv(file_path)\n",
    "\n",
    "#print(studentInfo_df.head(3))"
   ]
  },
  {
   "cell_type": "code",
   "execution_count": 3,
   "id": "718fc6a5",
   "metadata": {},
   "outputs": [
    {
     "name": "stdout",
     "output_type": "stream",
     "text": [
      "<class 'pandas.core.frame.DataFrame'>\n",
      "RangeIndex: 32593 entries, 0 to 32592\n",
      "Data columns (total 12 columns):\n",
      " #   Column                Non-Null Count  Dtype \n",
      "---  ------                --------------  ----- \n",
      " 0   code_module           32593 non-null  object\n",
      " 1   code_presentation     32593 non-null  object\n",
      " 2   id_student            32593 non-null  int64 \n",
      " 3   gender                32593 non-null  object\n",
      " 4   region                32593 non-null  object\n",
      " 5   highest_education     32593 non-null  object\n",
      " 6   imd_band              32593 non-null  object\n",
      " 7   age_band              32593 non-null  object\n",
      " 8   num_of_prev_attempts  32593 non-null  int64 \n",
      " 9   studied_credits       32593 non-null  int64 \n",
      " 10  disability            32593 non-null  object\n",
      " 11  final_result          32593 non-null  object\n",
      "dtypes: int64(3), object(9)\n",
      "memory usage: 3.0+ MB\n"
     ]
    }
   ],
   "source": [
    "studentInfo_df.info()"
   ]
  },
  {
   "cell_type": "code",
   "execution_count": 5,
   "id": "55325ae7",
   "metadata": {},
   "outputs": [],
   "source": [
    "# drop duplicate rows from the DataFrame\n",
    "\n",
    "studentInfo_df.drop_duplicates(inplace=True)"
   ]
  },
  {
   "cell_type": "code",
   "execution_count": 6,
   "id": "1b313807",
   "metadata": {},
   "outputs": [
    {
     "name": "stdout",
     "output_type": "stream",
     "text": [
      "code_module             0\n",
      "code_presentation       0\n",
      "id_student              0\n",
      "gender                  0\n",
      "region                  0\n",
      "highest_education       0\n",
      "imd_band                0\n",
      "age_band                0\n",
      "num_of_prev_attempts    0\n",
      "studied_credits         0\n",
      "disability              0\n",
      "final_result            0\n",
      "dtype: int64\n"
     ]
    }
   ],
   "source": [
    "# check for numm values\n",
    "\n",
    "print(studentInfo_df.isnull().sum())"
   ]
  },
  {
   "cell_type": "code",
   "execution_count": 7,
   "id": "9ac8653e",
   "metadata": {},
   "outputs": [
    {
     "data": {
      "text/plain": [
       "code_module             32593\n",
       "code_presentation       32593\n",
       "id_student              32593\n",
       "gender                  32593\n",
       "region                  32593\n",
       "highest_education       32593\n",
       "imd_band                32593\n",
       "age_band                32593\n",
       "num_of_prev_attempts    32593\n",
       "studied_credits         32593\n",
       "disability              32593\n",
       "final_result            32593\n",
       "dtype: int64"
      ]
     },
     "execution_count": 7,
     "metadata": {},
     "output_type": "execute_result"
    }
   ],
   "source": [
    "# drop any rows that have null or NaN values, and count the remaining rows\n",
    "\n",
    "studentInfo_df = studentInfo_df.dropna()\n",
    "studentInfo_df.count()"
   ]
  },
  {
   "cell_type": "markdown",
   "id": "947cf66c",
   "metadata": {},
   "source": [
    "### Filter the dataset on a course and semester\n",
    "\n",
    "Course AAA was previously selected for analysis"
   ]
  },
  {
   "cell_type": "code",
   "execution_count": 29,
   "id": "2d9539e2",
   "metadata": {},
   "outputs": [],
   "source": [
    "# filter on course GGG\n",
    "filtered_df_test = studentInfo_df[studentInfo_df['code_module'] == 'GGG']"
   ]
  },
  {
   "cell_type": "code",
   "execution_count": 30,
   "id": "1da822ae",
   "metadata": {},
   "outputs": [],
   "source": [
    "#filtered_df_test.info()"
   ]
  },
  {
   "cell_type": "code",
   "execution_count": 31,
   "id": "d2c41a76",
   "metadata": {},
   "outputs": [
    {
     "name": "stdout",
     "output_type": "stream",
     "text": [
      "2013J    952\n",
      "2014B    833\n",
      "2014J    749\n",
      "Name: code_presentation, dtype: int64\n"
     ]
    }
   ],
   "source": [
    "unique_values_count = filtered_df_test.code_presentation.value_counts()\n",
    "\n",
    "print(unique_values_count)"
   ]
  },
  {
   "cell_type": "code",
   "execution_count": 33,
   "id": "1d616f42",
   "metadata": {},
   "outputs": [
    {
     "name": "stderr",
     "output_type": "stream",
     "text": [
      "C:\\Users\\sinea\\AppData\\Local\\Temp\\ipykernel_14636\\2564685082.py:3: UserWarning: Boolean Series key will be reindexed to match DataFrame index.\n",
      "  filtered_df_test2 = filtered_df_test[studentInfo_df['code_presentation'] == '2014J']\n"
     ]
    }
   ],
   "source": [
    "# filter on semester - 2014J\n",
    "\n",
    "filtered_df_test2 = filtered_df_test[studentInfo_df['code_presentation'] == '2014J']"
   ]
  },
  {
   "cell_type": "code",
   "execution_count": 35,
   "id": "60c80649",
   "metadata": {},
   "outputs": [
    {
     "name": "stdout",
     "output_type": "stream",
     "text": [
      "<class 'pandas.core.frame.DataFrame'>\n",
      "Int64Index: 749 entries, 31844 to 32592\n",
      "Data columns (total 12 columns):\n",
      " #   Column                Non-Null Count  Dtype \n",
      "---  ------                --------------  ----- \n",
      " 0   code_module           749 non-null    object\n",
      " 1   code_presentation     749 non-null    object\n",
      " 2   id_student            749 non-null    int64 \n",
      " 3   gender                749 non-null    object\n",
      " 4   region                749 non-null    object\n",
      " 5   highest_education     749 non-null    object\n",
      " 6   imd_band              749 non-null    object\n",
      " 7   age_band              749 non-null    object\n",
      " 8   num_of_prev_attempts  749 non-null    int64 \n",
      " 9   studied_credits       749 non-null    int64 \n",
      " 10  disability            749 non-null    object\n",
      " 11  final_result          749 non-null    object\n",
      "dtypes: int64(3), object(9)\n",
      "memory usage: 76.1+ KB\n"
     ]
    }
   ],
   "source": [
    "filtered_df_test2.info()"
   ]
  },
  {
   "cell_type": "markdown",
   "id": "0e621b38",
   "metadata": {},
   "source": [
    "### Add / Drop Columns"
   ]
  },
  {
   "cell_type": "code",
   "execution_count": 38,
   "id": "74008802",
   "metadata": {},
   "outputs": [],
   "source": [
    "# drop excess columns\n",
    "filtered_df_test2 = filtered_df_test2.drop(['region', 'disability', 'imd_band'], axis=1)"
   ]
  },
  {
   "cell_type": "code",
   "execution_count": 39,
   "id": "54773469",
   "metadata": {},
   "outputs": [],
   "source": [
    "# drop excess columns\n",
    "filtered_df_test2 = filtered_df_test2.drop(['code_module', 'code_presentation', 'num_of_prev_attempts'], axis=1)"
   ]
  },
  {
   "cell_type": "code",
   "execution_count": 40,
   "id": "fbc1fafd",
   "metadata": {},
   "outputs": [
    {
     "name": "stdout",
     "output_type": "stream",
     "text": [
      "<class 'pandas.core.frame.DataFrame'>\n",
      "Int64Index: 749 entries, 31844 to 32592\n",
      "Data columns (total 6 columns):\n",
      " #   Column             Non-Null Count  Dtype \n",
      "---  ------             --------------  ----- \n",
      " 0   id_student         749 non-null    int64 \n",
      " 1   gender             749 non-null    object\n",
      " 2   highest_education  749 non-null    object\n",
      " 3   age_band           749 non-null    object\n",
      " 4   studied_credits    749 non-null    int64 \n",
      " 5   final_result       749 non-null    object\n",
      "dtypes: int64(2), object(4)\n",
      "memory usage: 41.0+ KB\n"
     ]
    }
   ],
   "source": [
    "filtered_df_test2.info()"
   ]
  },
  {
   "cell_type": "code",
   "execution_count": 41,
   "id": "65ffe413",
   "metadata": {},
   "outputs": [],
   "source": [
    "# add a column for tenure using randomint & numbers between 0 and 20 \n",
    "\n",
    "# set the seed for random \n",
    "np.random.seed(42)\n",
    "\n",
    "filtered_df_test2['tenure'] = np.random.randint(0, 20, filtered_df_test2.shape[0])"
   ]
  },
  {
   "cell_type": "code",
   "execution_count": 51,
   "id": "a77583b4",
   "metadata": {},
   "outputs": [],
   "source": [
    "# group the tenure column into bands\n",
    "bins = [0, 5, 10, 15, float('inf')]  # float('inf') represents positive infinity\n",
    "\n",
    "labels = ['0-5', '5-10', '11-15', '16 or more']"
   ]
  },
  {
   "cell_type": "code",
   "execution_count": 52,
   "id": "057a34b9",
   "metadata": {},
   "outputs": [
    {
     "name": "stdout",
     "output_type": "stream",
     "text": [
      "<class 'pandas.core.frame.DataFrame'>\n",
      "Int64Index: 749 entries, 31844 to 32592\n",
      "Data columns (total 8 columns):\n",
      " #   Column             Non-Null Count  Dtype   \n",
      "---  ------             --------------  -----   \n",
      " 0   id_student         749 non-null    int64   \n",
      " 1   gender             749 non-null    int64   \n",
      " 2   highest_education  749 non-null    object  \n",
      " 3   age_band           749 non-null    object  \n",
      " 4   studied_credits    749 non-null    int64   \n",
      " 5   final_result       749 non-null    object  \n",
      " 6   tenure             749 non-null    int32   \n",
      " 7   tenure_band        749 non-null    category\n",
      "dtypes: category(1), int32(1), int64(3), object(3)\n",
      "memory usage: 44.8+ KB\n"
     ]
    }
   ],
   "source": [
    "# pd.cut() to create a new column with the corresponding bins\n",
    "\n",
    "filtered_df_test2['tenure_band'] = pd.cut(filtered_df_test2['tenure'], bins=bins, labels=labels, right=False)\n",
    "\n",
    "filtered_df_test2.info()"
   ]
  },
  {
   "cell_type": "code",
   "execution_count": 54,
   "id": "380e0ccc",
   "metadata": {},
   "outputs": [
    {
     "name": "stdout",
     "output_type": "stream",
     "text": [
      "['5-10', '16 or more', '11-15', '0-5']\n",
      "Categories (4, object): ['0-5' < '5-10' < '11-15' < '16 or more']\n"
     ]
    }
   ],
   "source": [
    "unique_values_tenure= filtered_df_test2.tenure_band.unique()\n",
    "\n",
    "print(unique_values_tenure)"
   ]
  },
  {
   "cell_type": "code",
   "execution_count": 55,
   "id": "5acabae0",
   "metadata": {},
   "outputs": [
    {
     "name": "stdout",
     "output_type": "stream",
     "text": [
      "0-5           216\n",
      "16 or more    194\n",
      "11-15         174\n",
      "5-10          165\n",
      "Name: tenure_band, dtype: int64\n"
     ]
    }
   ],
   "source": [
    "unique_counts_tenure= filtered_df_test2.tenure_band.value_counts()\n",
    "\n",
    "print(unique_counts_tenure)"
   ]
  },
  {
   "cell_type": "code",
   "execution_count": 46,
   "id": "dd5d5954",
   "metadata": {},
   "outputs": [],
   "source": [
    "# interger coding of gender column\n",
    "filtered_df_test2['gender'] = filtered_df_test2['gender'].map({'M':0,'F':1})"
   ]
  },
  {
   "cell_type": "code",
   "execution_count": 49,
   "id": "9e51b6b9",
   "metadata": {},
   "outputs": [
    {
     "data": {
      "text/html": [
       "<div>\n",
       "<style scoped>\n",
       "    .dataframe tbody tr th:only-of-type {\n",
       "        vertical-align: middle;\n",
       "    }\n",
       "\n",
       "    .dataframe tbody tr th {\n",
       "        vertical-align: top;\n",
       "    }\n",
       "\n",
       "    .dataframe thead th {\n",
       "        text-align: right;\n",
       "    }\n",
       "</style>\n",
       "<table border=\"1\" class=\"dataframe\">\n",
       "  <thead>\n",
       "    <tr style=\"text-align: right;\">\n",
       "      <th></th>\n",
       "      <th>id_student</th>\n",
       "      <th>gender</th>\n",
       "      <th>highest_education</th>\n",
       "      <th>age_band</th>\n",
       "      <th>studied_credits</th>\n",
       "      <th>final_result</th>\n",
       "      <th>tenure</th>\n",
       "    </tr>\n",
       "  </thead>\n",
       "  <tbody>\n",
       "    <tr>\n",
       "      <th>31844</th>\n",
       "      <td>31205</td>\n",
       "      <td>0</td>\n",
       "      <td>Lower Than A Level</td>\n",
       "      <td>35-55</td>\n",
       "      <td>30</td>\n",
       "      <td>Fail</td>\n",
       "      <td>6</td>\n",
       "    </tr>\n",
       "    <tr>\n",
       "      <th>31845</th>\n",
       "      <td>52702</td>\n",
       "      <td>1</td>\n",
       "      <td>Lower Than A Level</td>\n",
       "      <td>35-55</td>\n",
       "      <td>30</td>\n",
       "      <td>Pass</td>\n",
       "      <td>19</td>\n",
       "    </tr>\n",
       "    <tr>\n",
       "      <th>31846</th>\n",
       "      <td>60162</td>\n",
       "      <td>1</td>\n",
       "      <td>A Level or Equivalent</td>\n",
       "      <td>35-55</td>\n",
       "      <td>30</td>\n",
       "      <td>Pass</td>\n",
       "      <td>14</td>\n",
       "    </tr>\n",
       "    <tr>\n",
       "      <th>31847</th>\n",
       "      <td>63949</td>\n",
       "      <td>1</td>\n",
       "      <td>Lower Than A Level</td>\n",
       "      <td>0-35</td>\n",
       "      <td>30</td>\n",
       "      <td>Pass</td>\n",
       "      <td>10</td>\n",
       "    </tr>\n",
       "    <tr>\n",
       "      <th>31848</th>\n",
       "      <td>91041</td>\n",
       "      <td>1</td>\n",
       "      <td>Lower Than A Level</td>\n",
       "      <td>0-35</td>\n",
       "      <td>30</td>\n",
       "      <td>Withdrawn</td>\n",
       "      <td>7</td>\n",
       "    </tr>\n",
       "  </tbody>\n",
       "</table>\n",
       "</div>"
      ],
      "text/plain": [
       "       id_student  gender      highest_education age_band  studied_credits  \\\n",
       "31844       31205       0     Lower Than A Level    35-55               30   \n",
       "31845       52702       1     Lower Than A Level    35-55               30   \n",
       "31846       60162       1  A Level or Equivalent    35-55               30   \n",
       "31847       63949       1     Lower Than A Level     0-35               30   \n",
       "31848       91041       1     Lower Than A Level     0-35               30   \n",
       "\n",
       "      final_result  tenure  \n",
       "31844         Fail       6  \n",
       "31845         Pass      19  \n",
       "31846         Pass      14  \n",
       "31847         Pass      10  \n",
       "31848    Withdrawn       7  "
      ]
     },
     "execution_count": 49,
     "metadata": {},
     "output_type": "execute_result"
    }
   ],
   "source": [
    "filtered_df_test2.head()"
   ]
  },
  {
   "cell_type": "code",
   "execution_count": 50,
   "id": "291667ba",
   "metadata": {},
   "outputs": [
    {
     "name": "stdout",
     "output_type": "stream",
     "text": [
      "<class 'pandas.core.frame.DataFrame'>\n",
      "Int64Index: 749 entries, 31844 to 32592\n",
      "Data columns (total 7 columns):\n",
      " #   Column             Non-Null Count  Dtype \n",
      "---  ------             --------------  ----- \n",
      " 0   id_student         749 non-null    int64 \n",
      " 1   gender             749 non-null    int64 \n",
      " 2   highest_education  749 non-null    object\n",
      " 3   age_band           749 non-null    object\n",
      " 4   studied_credits    749 non-null    int64 \n",
      " 5   final_result       749 non-null    object\n",
      " 6   tenure             749 non-null    int32 \n",
      "dtypes: int32(1), int64(3), object(3)\n",
      "memory usage: 43.9+ KB\n"
     ]
    }
   ],
   "source": [
    "filtered_df_test2.info()"
   ]
  },
  {
   "cell_type": "code",
   "execution_count": null,
   "id": "923727e9",
   "metadata": {},
   "outputs": [],
   "source": []
  },
  {
   "cell_type": "code",
   "execution_count": null,
   "id": "888e6119",
   "metadata": {},
   "outputs": [],
   "source": []
  },
  {
   "cell_type": "code",
   "execution_count": null,
   "id": "b5b0b979",
   "metadata": {},
   "outputs": [],
   "source": []
  },
  {
   "cell_type": "code",
   "execution_count": null,
   "id": "f8484335",
   "metadata": {},
   "outputs": [],
   "source": []
  },
  {
   "cell_type": "code",
   "execution_count": null,
   "id": "71db1be1",
   "metadata": {},
   "outputs": [],
   "source": []
  },
  {
   "cell_type": "code",
   "execution_count": null,
   "id": "f8989743",
   "metadata": {},
   "outputs": [],
   "source": []
  },
  {
   "cell_type": "code",
   "execution_count": null,
   "id": "a97ed6b2",
   "metadata": {},
   "outputs": [],
   "source": []
  },
  {
   "cell_type": "code",
   "execution_count": null,
   "id": "22a26ad2",
   "metadata": {},
   "outputs": [],
   "source": []
  }
 ],
 "metadata": {
  "kernelspec": {
   "display_name": "Python 3 (ipykernel)",
   "language": "python",
   "name": "python3"
  },
  "language_info": {
   "codemirror_mode": {
    "name": "ipython",
    "version": 3
   },
   "file_extension": ".py",
   "mimetype": "text/x-python",
   "name": "python",
   "nbconvert_exporter": "python",
   "pygments_lexer": "ipython3",
   "version": "3.9.12"
  }
 },
 "nbformat": 4,
 "nbformat_minor": 5
}
