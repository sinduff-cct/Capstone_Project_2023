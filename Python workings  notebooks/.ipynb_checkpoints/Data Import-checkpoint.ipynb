{
 "cells": [
  {
   "cell_type": "markdown",
   "id": "94653f46",
   "metadata": {},
   "source": [
    "## Capstone - Data Import Exercise"
   ]
  },
  {
   "cell_type": "code",
   "execution_count": 1,
   "id": "6ce19dce",
   "metadata": {},
   "outputs": [],
   "source": [
    "# Import libraries\n",
    "\n",
    "import pandas as pd\n",
    "import numpy as np\n",
    "import seaborn as sns #visualisation\n",
    "import matplotlib.pyplot as plt #visualisation\n",
    "%matplotlib inline \n",
    "sns.set(color_codes=True)\n"
   ]
  },
  {
   "cell_type": "code",
   "execution_count": 8,
   "id": "97045bae",
   "metadata": {},
   "outputs": [
    {
     "name": "stdout",
     "output_type": "stream",
     "text": [
      "  code_module code_presentation  id_assessment assessment_type date  weight\n",
      "0         AAA             2013J           1752             TMA   19    10.0\n",
      "1         AAA             2013J           1753             TMA   54    20.0\n",
      "2         AAA             2013J           1754             TMA  117    20.0\n",
      "3         AAA             2013J           1755             TMA  166    20.0\n",
      "4         AAA             2013J           1756             TMA  215    30.0\n"
     ]
    }
   ],
   "source": [
    "# read in file - assessments.csv\n",
    "file_path = r\"C:\\Users\\sinea\\OneDrive\\Documents OneDrive\\06 - CCT Masters in DA\\Capstone - 2023\\uci-open-university-learning-analytics-dataset\\assessments.csv\"\n",
    "\n",
    "assess_df = pd.read_csv(file_path)\n",
    "\n",
    "print(assess_df.head())\n"
   ]
  },
  {
   "cell_type": "code",
   "execution_count": 9,
   "id": "3ca17c3f",
   "metadata": {},
   "outputs": [
    {
     "name": "stdout",
     "output_type": "stream",
     "text": [
      "  code_module code_presentation  module_presentation_length\n",
      "0         AAA             2013J                         268\n",
      "1         AAA             2014J                         269\n",
      "2         BBB             2013J                         268\n",
      "3         BBB             2014J                         262\n",
      "4         BBB             2013B                         240\n"
     ]
    }
   ],
   "source": [
    "# read in file - courses.csv\n",
    "file_path = r\"C:\\Users\\sinea\\OneDrive\\Documents OneDrive\\06 - CCT Masters in DA\\Capstone - 2023\\uci-open-university-learning-analytics-dataset\\courses.csv\"\n",
    "\n",
    "courses_df = pd.read_csv(file_path)\n",
    "\n",
    "print(courses_df.head())\n"
   ]
  },
  {
   "cell_type": "code",
   "execution_count": 10,
   "id": "bfad6c8d",
   "metadata": {},
   "outputs": [
    {
     "name": "stdout",
     "output_type": "stream",
     "text": [
      "   id_assessment  id_student  date_submitted  is_banked score\n",
      "0           1752       11391              18          0    78\n",
      "1           1752       28400              22          0    70\n",
      "2           1752       31604              17          0    72\n",
      "3           1752       32885              26          0    69\n",
      "4           1752       38053              19          0    79\n"
     ]
    }
   ],
   "source": [
    "# read in file - studentAssessment.csv\n",
    "file_path = r\"C:\\Users\\sinea\\OneDrive\\Documents OneDrive\\06 - CCT Masters in DA\\Capstone - 2023\\uci-open-university-learning-analytics-dataset\\studentAssessment.csv\"\n",
    "\n",
    "studentAssessment_df = pd.read_csv(file_path)\n",
    "\n",
    "print(studentAssessment_df.head())"
   ]
  },
  {
   "cell_type": "code",
   "execution_count": 11,
   "id": "ac3b68c3",
   "metadata": {},
   "outputs": [
    {
     "name": "stdout",
     "output_type": "stream",
     "text": [
      "  code_module code_presentation  id_student gender                region  \\\n",
      "0         AAA             2013J       11391      M   East Anglian Region   \n",
      "1         AAA             2013J       28400      F              Scotland   \n",
      "2         AAA             2013J       30268      F  North Western Region   \n",
      "3         AAA             2013J       31604      F     South East Region   \n",
      "4         AAA             2013J       32885      F  West Midlands Region   \n",
      "\n",
      "       highest_education imd_band age_band  num_of_prev_attempts  \\\n",
      "0       HE Qualification  90-100%     55<=                     0   \n",
      "1       HE Qualification   20-30%    35-55                     0   \n",
      "2  A Level or Equivalent   30-40%    35-55                     0   \n",
      "3  A Level or Equivalent   50-60%    35-55                     0   \n",
      "4     Lower Than A Level   50-60%     0-35                     0   \n",
      "\n",
      "   studied_credits disability final_result  \n",
      "0              240          N         Pass  \n",
      "1               60          N         Pass  \n",
      "2               60          Y    Withdrawn  \n",
      "3               60          N         Pass  \n",
      "4               60          N         Pass  \n"
     ]
    }
   ],
   "source": [
    "# read in file - studentInfo.csv\n",
    "file_path = r\"C:\\Users\\sinea\\OneDrive\\Documents OneDrive\\06 - CCT Masters in DA\\Capstone - 2023\\uci-open-university-learning-analytics-dataset\\studentInfo.csv\"\n",
    "\n",
    "studentInfo_df = pd.read_csv(file_path)\n",
    "\n",
    "print(studentInfo_df.head())"
   ]
  },
  {
   "cell_type": "code",
   "execution_count": 12,
   "id": "c01de66c",
   "metadata": {},
   "outputs": [
    {
     "name": "stdout",
     "output_type": "stream",
     "text": [
      "  code_module code_presentation  id_student date_registration  \\\n",
      "0         AAA             2013J       11391              -159   \n",
      "1         AAA             2013J       28400               -53   \n",
      "2         AAA             2013J       30268               -92   \n",
      "3         AAA             2013J       31604               -52   \n",
      "4         AAA             2013J       32885              -176   \n",
      "\n",
      "  date_unregistration  \n",
      "0                   ?  \n",
      "1                   ?  \n",
      "2                  12  \n",
      "3                   ?  \n",
      "4                   ?  \n"
     ]
    }
   ],
   "source": [
    "# read in file - studentAssessment.csv\n",
    "file_path = r\"C:\\Users\\sinea\\OneDrive\\Documents OneDrive\\06 - CCT Masters in DA\\Capstone - 2023\\uci-open-university-learning-analytics-dataset\\studentRegistration.csv\"\n",
    "\n",
    "studentRegistration_df = pd.read_csv(file_path)\n",
    "\n",
    "print(studentRegistration_df.head())"
   ]
  },
  {
   "cell_type": "code",
   "execution_count": 13,
   "id": "a6af8831",
   "metadata": {},
   "outputs": [
    {
     "name": "stdout",
     "output_type": "stream",
     "text": [
      "  code_module code_presentation  id_student  id_site  date  sum_click\n",
      "0         AAA             2013J       28400   546652   -10          4\n",
      "1         AAA             2013J       28400   546652   -10          1\n",
      "2         AAA             2013J       28400   546652   -10          1\n",
      "3         AAA             2013J       28400   546614   -10         11\n",
      "4         AAA             2013J       28400   546714   -10          1\n"
     ]
    }
   ],
   "source": [
    "# read in file - studentVle.csv\n",
    "file_path = r\"C:\\Users\\sinea\\OneDrive\\Documents OneDrive\\06 - CCT Masters in DA\\Capstone - 2023\\uci-open-university-learning-analytics-dataset\\studentVle.csv\"\n",
    "\n",
    "studentVle_df = pd.read_csv(file_path)\n",
    "\n",
    "print(studentVle_df.head())"
   ]
  },
  {
   "cell_type": "code",
   "execution_count": 15,
   "id": "2e1d6af7",
   "metadata": {},
   "outputs": [
    {
     "name": "stdout",
     "output_type": "stream",
     "text": [
      "   id_site code_module code_presentation activity_type week_from week_to\n",
      "0   546943         AAA             2013J      resource         ?       ?\n",
      "1   546712         AAA             2013J     oucontent         ?       ?\n",
      "2   546998         AAA             2013J      resource         ?       ?\n",
      "3   546888         AAA             2013J           url         ?       ?\n",
      "4   547035         AAA             2013J      resource         ?       ?\n"
     ]
    }
   ],
   "source": [
    "# read in file - vle.csv\n",
    "file_path = r\"C:\\Users\\sinea\\OneDrive\\Documents OneDrive\\06 - CCT Masters in DA\\Capstone - 2023\\uci-open-university-learning-analytics-dataset\\vle.csv\"\n",
    "\n",
    "vle_df = pd.read_csv(file_path)\n",
    "\n",
    "print(vle_df.head())"
   ]
  },
  {
   "cell_type": "code",
   "execution_count": null,
   "id": "a40d80ff",
   "metadata": {},
   "outputs": [],
   "source": []
  }
 ],
 "metadata": {
  "kernelspec": {
   "display_name": "Python 3 (ipykernel)",
   "language": "python",
   "name": "python3"
  },
  "language_info": {
   "codemirror_mode": {
    "name": "ipython",
    "version": 3
   },
   "file_extension": ".py",
   "mimetype": "text/x-python",
   "name": "python",
   "nbconvert_exporter": "python",
   "pygments_lexer": "ipython3",
   "version": "3.9.12"
  }
 },
 "nbformat": 4,
 "nbformat_minor": 5
}
