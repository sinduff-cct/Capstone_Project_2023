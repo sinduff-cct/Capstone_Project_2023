{
 "cells": [
  {
   "cell_type": "code",
   "execution_count": 1,
   "id": "50244ca1",
   "metadata": {},
   "outputs": [],
   "source": [
    "# Import libraries\n",
    "\n",
    "import pandas as pd\n",
    "import numpy as np\n",
    "import seaborn as sns #visualisation\n",
    "import matplotlib.pyplot as plt #visualisation\n",
    "\n",
    "%matplotlib inline \n",
    "sns.set(color_codes=True)"
   ]
  },
  {
   "cell_type": "code",
   "execution_count": 2,
   "id": "6b382775",
   "metadata": {},
   "outputs": [],
   "source": [
    "# read in the .csv file - of filtered student_info\n",
    "\n",
    "data_df = pd.read_csv(\"filtered_df2_A2.csv\")"
   ]
  },
  {
   "cell_type": "code",
   "execution_count": 3,
   "id": "116e344f",
   "metadata": {},
   "outputs": [],
   "source": [
    "#data_df.info()"
   ]
  },
  {
   "cell_type": "markdown",
   "id": "884cfb5a",
   "metadata": {},
   "source": [
    "### One-Hot Encoding - categorical data"
   ]
  },
  {
   "cell_type": "code",
   "execution_count": 4,
   "id": "2500d0c6",
   "metadata": {},
   "outputs": [],
   "source": [
    "# One-Hot Encoding for 'highest_education', 'age_band', 'final_result', 'tenure_band'\n",
    "\n",
    "data_df_encoded = pd.get_dummies(data_df, columns=['highest_education', 'age_band', 'final_result', 'tenure_band'])\n"
   ]
  },
  {
   "cell_type": "code",
   "execution_count": 5,
   "id": "2ce6facd",
   "metadata": {},
   "outputs": [],
   "source": [
    "#data_df_encoded.info()"
   ]
  },
  {
   "cell_type": "code",
   "execution_count": 6,
   "id": "4b5db130",
   "metadata": {},
   "outputs": [],
   "source": [
    "# convert the dtype of the recently one-hot encoded columns to int64 from uint8 dtype\n",
    "\n",
    "columns_to_convert = [\n",
    "    'highest_education_A Level or Equivalent',\n",
    "    'highest_education_HE Qualification',\n",
    "    'highest_education_Lower Than A Level',\n",
    "    'highest_education_Post Graduate Qualification',\n",
    "    'age_band_0-35',\n",
    "    'age_band_35-55',\n",
    "    'age_band_55<=',\n",
    "    'final_result_Distinction',\n",
    "    'final_result_Fail',\n",
    "    'final_result_Pass',\n",
    "    'final_result_Withdrawn', \n",
    "    'tenure_band_0-5',\n",
    "    'tenure_band_11-15',\n",
    "    'tenure_band_16 or more',\n",
    "    'tenure_band_5-10'\n",
    "]\n",
    "\n",
    "# Convert the selected columns to int64 dtype\n",
    "data_df_encoded[columns_to_convert] = data_df_encoded[columns_to_convert].astype('int64')"
   ]
  },
  {
   "cell_type": "code",
   "execution_count": 7,
   "id": "501cd892",
   "metadata": {},
   "outputs": [],
   "source": [
    "#data_df_encoded.info()"
   ]
  },
  {
   "cell_type": "markdown",
   "id": "8596eaa3",
   "metadata": {},
   "source": [
    "### Algorithm 5 - Multilayer Perceptron (MLP)"
   ]
  },
  {
   "cell_type": "code",
   "execution_count": 8,
   "id": "54a27cba",
   "metadata": {},
   "outputs": [],
   "source": [
    "# machine learning libraries\n",
    "from sklearn.model_selection import train_test_split\n",
    "from sklearn.metrics import accuracy_score, classification_report, confusion_matrix\n",
    "from sklearn.metrics import plot_confusion_matrix\n",
    "\n",
    "# model layers\n",
    "from keras.models import Sequential\n",
    "from keras.layers import Dense"
   ]
  },
  {
   "cell_type": "code",
   "execution_count": 30,
   "id": "7b65d048",
   "metadata": {},
   "outputs": [],
   "source": [
    "# divide the dataset into features (X) and the target variable (y)\n",
    "\n",
    "#id_student\n",
    "X = data_df_encoded.drop(columns=['studied_credits'])  # drop target variable from the dataframe\n",
    "\n",
    "y = data_df_encoded['studied_credits']        # id target variable "
   ]
  },
  {
   "cell_type": "code",
   "execution_count": 31,
   "id": "0e339949",
   "metadata": {},
   "outputs": [],
   "source": [
    "# split the data into training and test sets\n",
    "\n",
    "X_train, X_test, y_train, y_test = train_test_split(X, y, test_size=0.2, random_state=0)"
   ]
  },
  {
   "cell_type": "code",
   "execution_count": 32,
   "id": "541a7065",
   "metadata": {},
   "outputs": [],
   "source": [
    "# define the model\n",
    "model = Sequential()\n",
    "\n",
    "# Hidden layer 1 with 32 neurons, and relu as the activation function\n",
    "model.add(Dense(32, input_dim=X_train.shape[1], activation='relu'))\n",
    "\n",
    "# Hidden layer 2 with 16 neurons, and relu as the activation function\n",
    "model.add(Dense(16, activation='relu'))\n",
    "\n",
    "# Final layer with 1 neuron, and linear as the activation function\n",
    "model.add(Dense(1, activation='linear')) "
   ]
  },
  {
   "cell_type": "code",
   "execution_count": 33,
   "id": "8d03ba96",
   "metadata": {},
   "outputs": [],
   "source": [
    "# define the model\n",
    "model = Sequential()\n",
    "\n",
    "# Hidden layer 1 with 32 neurons, and relu as the activation function\n",
    "model.add(Dense(32, input_dim=X_train.shape[1], activation='relu'))\n",
    "\n",
    "# Hidden layer 2 with 16 neurons, and relu as the activation function\n",
    "model.add(Dense(16, activation='relu'))\n",
    "\n",
    "# Final layer with 1 neuron, and sigmoid as the activation function\n",
    "model.add(Dense(1, activation='sigmoid')) # use 'softmax' for multiclass classification"
   ]
  },
  {
   "cell_type": "code",
   "execution_count": 34,
   "id": "ec74f36d",
   "metadata": {},
   "outputs": [],
   "source": [
    "# compile the model\n",
    "# use 'categorical_crossentropy' for multiclass classification\n",
    "\n",
    "\n",
    "model.compile(loss='binary_crossentropy', optimizer='adam', metrics=['accuracy'])"
   ]
  },
  {
   "cell_type": "code",
   "execution_count": 35,
   "id": "22925e46",
   "metadata": {
    "scrolled": true
   },
   "outputs": [
    {
     "name": "stdout",
     "output_type": "stream",
     "text": [
      "Epoch 1/30\n",
      "10/10 [==============================] - 1s 23ms/step - loss: -8943672.0000 - accuracy: 0.0000e+00 - val_loss: -13650982.0000 - val_accuracy: 0.0000e+00\n",
      "Epoch 2/30\n",
      "10/10 [==============================] - 0s 8ms/step - loss: -18122378.0000 - accuracy: 0.0000e+00 - val_loss: -22345448.0000 - val_accuracy: 0.0000e+00\n",
      "Epoch 3/30\n",
      "10/10 [==============================] - 0s 12ms/step - loss: -26919692.0000 - accuracy: 0.0000e+00 - val_loss: -29947478.0000 - val_accuracy: 0.0000e+00\n",
      "Epoch 4/30\n",
      "10/10 [==============================] - 0s 8ms/step - loss: -34870192.0000 - accuracy: 0.0000e+00 - val_loss: -37689628.0000 - val_accuracy: 0.0000e+00\n",
      "Epoch 5/30\n",
      "10/10 [==============================] - 0s 8ms/step - loss: -43158300.0000 - accuracy: 0.0000e+00 - val_loss: -46236140.0000 - val_accuracy: 0.0000e+00\n",
      "Epoch 6/30\n",
      "10/10 [==============================] - 0s 9ms/step - loss: -53371820.0000 - accuracy: 0.0000e+00 - val_loss: -58487700.0000 - val_accuracy: 0.0000e+00\n",
      "Epoch 7/30\n",
      "10/10 [==============================] - 0s 9ms/step - loss: -67722600.0000 - accuracy: 0.0000e+00 - val_loss: -73159736.0000 - val_accuracy: 0.0000e+00\n",
      "Epoch 8/30\n",
      "10/10 [==============================] - 0s 9ms/step - loss: -83573656.0000 - accuracy: 0.0000e+00 - val_loss: -89350648.0000 - val_accuracy: 0.0000e+00\n",
      "Epoch 9/30\n",
      "10/10 [==============================] - 0s 8ms/step - loss: -101511760.0000 - accuracy: 0.0000e+00 - val_loss: -107370952.0000 - val_accuracy: 0.0000e+00\n",
      "Epoch 10/30\n",
      "10/10 [==============================] - 0s 8ms/step - loss: -120746240.0000 - accuracy: 0.0000e+00 - val_loss: -128123200.0000 - val_accuracy: 0.0000e+00\n",
      "Epoch 11/30\n",
      "10/10 [==============================] - 0s 8ms/step - loss: -144423904.0000 - accuracy: 0.0000e+00 - val_loss: -150719072.0000 - val_accuracy: 0.0000e+00\n",
      "Epoch 12/30\n",
      "10/10 [==============================] - 0s 8ms/step - loss: -168934896.0000 - accuracy: 0.0000e+00 - val_loss: -177238688.0000 - val_accuracy: 0.0000e+00\n",
      "Epoch 13/30\n",
      "10/10 [==============================] - 0s 8ms/step - loss: -197832784.0000 - accuracy: 0.0000e+00 - val_loss: -206466368.0000 - val_accuracy: 0.0000e+00\n",
      "Epoch 14/30\n",
      "10/10 [==============================] - 0s 8ms/step - loss: -230157056.0000 - accuracy: 0.0000e+00 - val_loss: -239597296.0000 - val_accuracy: 0.0000e+00\n",
      "Epoch 15/30\n",
      "10/10 [==============================] - 0s 8ms/step - loss: -266560592.0000 - accuracy: 0.0000e+00 - val_loss: -276875456.0000 - val_accuracy: 0.0000e+00\n",
      "Epoch 16/30\n",
      "10/10 [==============================] - 0s 8ms/step - loss: -308420992.0000 - accuracy: 0.0000e+00 - val_loss: -318122048.0000 - val_accuracy: 0.0000e+00\n",
      "Epoch 17/30\n",
      "10/10 [==============================] - 0s 8ms/step - loss: -353098816.0000 - accuracy: 0.0000e+00 - val_loss: -365300384.0000 - val_accuracy: 0.0000e+00\n",
      "Epoch 18/30\n",
      "10/10 [==============================] - 0s 8ms/step - loss: -404333984.0000 - accuracy: 0.0000e+00 - val_loss: -417129920.0000 - val_accuracy: 0.0000e+00\n",
      "Epoch 19/30\n",
      "10/10 [==============================] - 0s 8ms/step - loss: -461648160.0000 - accuracy: 0.0000e+00 - val_loss: -473332960.0000 - val_accuracy: 0.0000e+00\n",
      "Epoch 20/30\n",
      "10/10 [==============================] - 0s 8ms/step - loss: -522571680.0000 - accuracy: 0.0000e+00 - val_loss: -536309504.0000 - val_accuracy: 0.0000e+00\n",
      "Epoch 21/30\n",
      "10/10 [==============================] - 0s 9ms/step - loss: -590401792.0000 - accuracy: 0.0000e+00 - val_loss: -606069376.0000 - val_accuracy: 0.0000e+00\n",
      "Epoch 22/30\n",
      "10/10 [==============================] - 0s 8ms/step - loss: -668027264.0000 - accuracy: 0.0000e+00 - val_loss: -681924096.0000 - val_accuracy: 0.0000e+00\n",
      "Epoch 23/30\n",
      "10/10 [==============================] - 0s 8ms/step - loss: -754987776.0000 - accuracy: 0.0000e+00 - val_loss: -773985856.0000 - val_accuracy: 0.0000e+00\n",
      "Epoch 24/30\n",
      "10/10 [==============================] - 0s 8ms/step - loss: -855709376.0000 - accuracy: 0.0000e+00 - val_loss: -875660224.0000 - val_accuracy: 0.0000e+00\n",
      "Epoch 25/30\n",
      "10/10 [==============================] - 0s 9ms/step - loss: -963630016.0000 - accuracy: 0.0000e+00 - val_loss: -987508608.0000 - val_accuracy: 0.0000e+00\n",
      "Epoch 26/30\n",
      "10/10 [==============================] - 0s 8ms/step - loss: -1087038720.0000 - accuracy: 0.0000e+00 - val_loss: -1107005824.0000 - val_accuracy: 0.0000e+00\n",
      "Epoch 27/30\n",
      "10/10 [==============================] - 0s 8ms/step - loss: -1213957760.0000 - accuracy: 0.0000e+00 - val_loss: -1237317504.0000 - val_accuracy: 0.0000e+00\n",
      "Epoch 28/30\n",
      "10/10 [==============================] - 0s 8ms/step - loss: -1352867072.0000 - accuracy: 0.0000e+00 - val_loss: -1377270272.0000 - val_accuracy: 0.0000e+00\n",
      "Epoch 29/30\n",
      "10/10 [==============================] - 0s 7ms/step - loss: -1508172672.0000 - accuracy: 0.0000e+00 - val_loss: -1523091584.0000 - val_accuracy: 0.0000e+00\n",
      "Epoch 30/30\n",
      "10/10 [==============================] - 0s 8ms/step - loss: -1664643584.0000 - accuracy: 0.0000e+00 - val_loss: -1685028608.0000 - val_accuracy: 0.0000e+00\n"
     ]
    }
   ],
   "source": [
    "# fit the model\n",
    "#model.fit(X_train, y_train, epochs=50, batch_size=32, validation_data=(X_test, y_test))\n",
    "\n",
    "# Fit the model and get the history object\n",
    "history = model.fit(X_train, y_train, epochs=30, batch_size=32, validation_data=(X_test, y_test))"
   ]
  },
  {
   "cell_type": "markdown",
   "id": "d042212e",
   "metadata": {},
   "source": [
    "### Plotting the outcome "
   ]
  },
  {
   "cell_type": "code",
   "execution_count": 36,
   "id": "6e657b86",
   "metadata": {},
   "outputs": [
    {
     "data": {
      "image/png": "[encoded data removed]",
      "text/plain": [
       "<Figure size 1200x600 with 1 Axes>"
      ]
     },
     "metadata": {},
     "output_type": "display_data"
    }
   ],
   "source": [
    "# plotting training and validation accuracy\n",
    "\n",
    "plt.figure(figsize=(12, 6))\n",
    "plt.plot(history.history['accuracy'], label='Training Accuracy')\n",
    "plt.plot(history.history['val_accuracy'], label='Validation Accuracy')\n",
    "plt.title('Training and Validation Accuracy over Epochs')\n",
    "plt.xlabel('Epochs')\n",
    "plt.ylabel('Accuracy')\n",
    "plt.legend()\n",
    "plt.show()"
   ]
  },
  {
   "cell_type": "code",
   "execution_count": null,
   "id": "1e87b93c",
   "metadata": {},
   "outputs": [],
   "source": []
  }
 ],
 "metadata": {
  "kernelspec": {
   "display_name": "Python 3 (ipykernel)",
   "language": "python",
   "name": "python3"
  },
  "language_info": {
   "codemirror_mode": {
    "name": "ipython",
    "version": 3
   },
   "file_extension": ".py",
   "mimetype": "text/x-python",
   "name": "python",
   "nbconvert_exporter": "python",
   "pygments_lexer": "ipython3",
   "version": "3.9.12"
  }
 },
 "nbformat": 4,
 "nbformat_minor": 5
}
