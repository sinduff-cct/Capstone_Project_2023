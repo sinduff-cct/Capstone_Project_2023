{
 "cells": [
  {
   "cell_type": "code",
   "execution_count": 1,
   "id": "50244ca1",
   "metadata": {},
   "outputs": [],
   "source": [
    "# Import libraries\n",
    "\n",
    "import pandas as pd\n",
    "import numpy as np\n",
    "import seaborn as sns #visualisation\n",
    "import matplotlib.pyplot as plt #visualisation\n",
    "\n",
    "%matplotlib inline \n",
    "sns.set(color_codes=True)"
   ]
  },
  {
   "cell_type": "code",
   "execution_count": 2,
   "id": "6b382775",
   "metadata": {},
   "outputs": [],
   "source": [
    "# read in the .csv file - of filtered student_info\n",
    "\n",
    "data_df = pd.read_csv(\"filtered_df2_A2.csv\")"
   ]
  },
  {
   "cell_type": "code",
   "execution_count": 3,
   "id": "116e344f",
   "metadata": {},
   "outputs": [],
   "source": [
    "#data_df.info()"
   ]
  },
  {
   "cell_type": "markdown",
   "id": "884cfb5a",
   "metadata": {},
   "source": [
    "### One-Hot Encoding - categorical data"
   ]
  },
  {
   "cell_type": "code",
   "execution_count": 4,
   "id": "2500d0c6",
   "metadata": {},
   "outputs": [],
   "source": [
    "# One-Hot Encoding for 'highest_education', 'age_band', 'final_result', 'tenure_band'\n",
    "\n",
    "data_df_encoded = pd.get_dummies(data_df, columns=['highest_education', 'age_band', 'final_result', 'tenure_band'])\n"
   ]
  },
  {
   "cell_type": "code",
   "execution_count": 5,
   "id": "2ce6facd",
   "metadata": {},
   "outputs": [],
   "source": [
    "#data_df_encoded.info()"
   ]
  },
  {
   "cell_type": "code",
   "execution_count": 6,
   "id": "4b5db130",
   "metadata": {},
   "outputs": [],
   "source": [
    "# convert the dtype of the recently one-hot encoded columns to int64 from uint8 dtype\n",
    "\n",
    "columns_to_convert = [\n",
    "    'highest_education_A Level or Equivalent',\n",
    "    'highest_education_HE Qualification',\n",
    "    'highest_education_Lower Than A Level',\n",
    "    'highest_education_Post Graduate Qualification',\n",
    "    'age_band_0-35',\n",
    "    'age_band_35-55',\n",
    "    'age_band_55<=',\n",
    "    'final_result_Distinction',\n",
    "    'final_result_Fail',\n",
    "    'final_result_Pass',\n",
    "    'final_result_Withdrawn', \n",
    "    'tenure_band_0-5',\n",
    "    'tenure_band_11-15',\n",
    "    'tenure_band_16 or more',\n",
    "    'tenure_band_5-10'\n",
    "]\n",
    "\n",
    "# Convert the selected columns to int64 dtype\n",
    "data_df_encoded[columns_to_convert] = data_df_encoded[columns_to_convert].astype('int64')"
   ]
  },
  {
   "cell_type": "code",
   "execution_count": 7,
   "id": "501cd892",
   "metadata": {},
   "outputs": [
    {
     "name": "stdout",
     "output_type": "stream",
     "text": [
      "<class 'pandas.core.frame.DataFrame'>\n",
      "RangeIndex: 383 entries, 0 to 382\n",
      "Data columns (total 18 columns):\n",
      " #   Column                                         Non-Null Count  Dtype\n",
      "---  ------                                         --------------  -----\n",
      " 0   id_student                                     383 non-null    int64\n",
      " 1   gender                                         383 non-null    int64\n",
      " 2   studied_credits                                383 non-null    int64\n",
      " 3   highest_education_A Level or Equivalent        383 non-null    int64\n",
      " 4   highest_education_HE Qualification             383 non-null    int64\n",
      " 5   highest_education_Lower Than A Level           383 non-null    int64\n",
      " 6   highest_education_Post Graduate Qualification  383 non-null    int64\n",
      " 7   age_band_0-35                                  383 non-null    int64\n",
      " 8   age_band_35-55                                 383 non-null    int64\n",
      " 9   age_band_55<=                                  383 non-null    int64\n",
      " 10  final_result_Distinction                       383 non-null    int64\n",
      " 11  final_result_Fail                              383 non-null    int64\n",
      " 12  final_result_Pass                              383 non-null    int64\n",
      " 13  final_result_Withdrawn                         383 non-null    int64\n",
      " 14  tenure_band_0-5                                383 non-null    int64\n",
      " 15  tenure_band_11-15                              383 non-null    int64\n",
      " 16  tenure_band_16 or more                         383 non-null    int64\n",
      " 17  tenure_band_5-10                               383 non-null    int64\n",
      "dtypes: int64(18)\n",
      "memory usage: 54.0 KB\n"
     ]
    }
   ],
   "source": [
    "data_df_encoded.info()"
   ]
  },
  {
   "cell_type": "markdown",
   "id": "8596eaa3",
   "metadata": {},
   "source": [
    "### Algorithm 5 - Multilayer Perceptron (MLP)"
   ]
  },
  {
   "cell_type": "code",
   "execution_count": 8,
   "id": "54a27cba",
   "metadata": {},
   "outputs": [],
   "source": [
    "# machine learning libraries\n",
    "from sklearn.model_selection import train_test_split\n",
    "from sklearn.metrics import accuracy_score, classification_report, confusion_matrix\n",
    "from sklearn.metrics import plot_confusion_matrix\n",
    "\n",
    "# model layers\n",
    "from keras.models import Sequential\n",
    "from keras.layers import Dense"
   ]
  },
  {
   "cell_type": "code",
   "execution_count": 9,
   "id": "7b65d048",
   "metadata": {},
   "outputs": [],
   "source": [
    "# divide the dataset into features (X) and the target variable (y)\n",
    "\n",
    "X = data_df_encoded.drop(columns=['studied_credits'])  # drop target variable from the dataframe\n",
    "\n",
    "y = data_df_encoded['studied_credits']        # id target variable "
   ]
  },
  {
   "cell_type": "code",
   "execution_count": 10,
   "id": "0e339949",
   "metadata": {},
   "outputs": [],
   "source": [
    "# split the data into training and test sets\n",
    "\n",
    "X_train, X_test, y_train, y_test = train_test_split(X, y, test_size=0.2, random_state=0)"
   ]
  },
  {
   "cell_type": "code",
   "execution_count": 11,
   "id": "541a7065",
   "metadata": {},
   "outputs": [],
   "source": [
    "# define the model\n",
    "\n",
    "model = Sequential()"
   ]
  },
  {
   "cell_type": "code",
   "execution_count": 12,
   "id": "8d03ba96",
   "metadata": {},
   "outputs": [],
   "source": [
    "# Hidden layer 1 with 2o neurons, and relu as the activation function\n",
    "model.add(Dense(20, input_dim=X_train.shape[1], activation='relu'))\n",
    "\n",
    "# Hidden layer 2 with 10 neurons, and relu as the activation function\n",
    "model.add(Dense(10, activation='relu'))\n",
    "\n",
    "# Final layer with 1 neuron, and sigmoid as the activation function\n",
    "# use 'softmax' for multiclass classification\n",
    "model.add(Dense(1, activation='sigmoid')) "
   ]
  },
  {
   "cell_type": "code",
   "execution_count": 13,
   "id": "ec74f36d",
   "metadata": {},
   "outputs": [],
   "source": [
    "# compile the model\n",
    "# use 'categorical_crossentropy' for multiclass classification\n",
    "\n",
    "model.compile(loss='binary_crossentropy', optimizer='adam', metrics=['accuracy']) "
   ]
  },
  {
   "cell_type": "code",
   "execution_count": 14,
   "id": "3beb68e9",
   "metadata": {
    "scrolled": false
   },
   "outputs": [
    {
     "name": "stdout",
     "output_type": "stream",
     "text": [
      "Epoch 1/10\n",
      "10/10 [==============================] - 1s 4ms/step - loss: -3333672.2500 - accuracy: 0.0000e+00\n",
      "Epoch 2/10\n",
      "10/10 [==============================] - 0s 4ms/step - loss: -7261606.5000 - accuracy: 0.0000e+00\n",
      "Epoch 3/10\n",
      "10/10 [==============================] - 0s 4ms/step - loss: -11581683.0000 - accuracy: 0.0000e+00\n",
      "Epoch 4/10\n",
      "10/10 [==============================] - 0s 6ms/step - loss: -16236700.0000 - accuracy: 0.0000e+00\n",
      "Epoch 5/10\n",
      "10/10 [==============================] - 0s 5ms/step - loss: -20797208.0000 - accuracy: 0.0000e+00\n",
      "Epoch 6/10\n",
      "10/10 [==============================] - 0s 4ms/step - loss: -24388218.0000 - accuracy: 0.0000e+00\n",
      "Epoch 7/10\n",
      "10/10 [==============================] - 0s 4ms/step - loss: -28457586.0000 - accuracy: 0.0000e+00\n",
      "Epoch 8/10\n",
      "10/10 [==============================] - 0s 4ms/step - loss: -33274150.0000 - accuracy: 0.0000e+00\n",
      "Epoch 9/10\n",
      "10/10 [==============================] - 0s 4ms/step - loss: -38828780.0000 - accuracy: 0.0000e+00\n",
      "Epoch 10/10\n",
      "10/10 [==============================] - 0s 4ms/step - loss: -45596188.0000 - accuracy: 0.0000e+00\n"
     ]
    }
   ],
   "source": [
    "# fit the model\n",
    "#model.fit(X_train, y_train, epochs=10, batch_size=32)\n",
    "\n",
    "# fit the model and store the output for graphing\n",
    "history = model.fit(X_train, y_train, epochs=10, batch_size=32)\n"
   ]
  },
  {
   "cell_type": "code",
   "execution_count": 15,
   "id": "22925e46",
   "metadata": {},
   "outputs": [
    {
     "data": {
      "text/plain": [
       "<matplotlib.legend.Legend at 0x122a99cd850>"
      ]
     },
     "execution_count": 15,
     "metadata": {},
     "output_type": "execute_result"
    },
    {
     "data": {
      "image/png": "[encoded data removed]",
      "text/plain": [
       "<Figure size 1400x500 with 1 Axes>"
      ]
     },
     "metadata": {},
     "output_type": "display_data"
    }
   ],
   "source": [
    "# Plotting the accuracy\n",
    "plt.figure(figsize=(14,5))\n",
    "plt.subplot(1, 2, 1)\n",
    "plt.plot(history.history['accuracy'])\n",
    "plt.title('Model Accuracy')\n",
    "plt.ylabel('Accuracy')\n",
    "plt.xlabel('Epoch')\n",
    "plt.legend(['Train'])\n"
   ]
  },
  {
   "cell_type": "code",
   "execution_count": 17,
   "id": "98d8cbdd",
   "metadata": {},
   "outputs": [
    {
     "data": {
      "image/png": "[encoded data removed]",
      "text/plain": [
       "<Figure size 640x480 with 1 Axes>"
      ]
     },
     "metadata": {},
     "output_type": "display_data"
    }
   ],
   "source": [
    "# Plotting the loss\n",
    "plt.plot(history.history['loss'])\n",
    "plt.title('Model Loss')\n",
    "plt.ylabel('Loss')\n",
    "plt.xlabel('Epoch')\n",
    "plt.legend(['Train'])\n",
    "plt.show()"
   ]
  },
  {
   "cell_type": "code",
   "execution_count": null,
   "id": "7d15d3b7",
   "metadata": {},
   "outputs": [],
   "source": []
  }
 ],
 "metadata": {
  "kernelspec": {
   "display_name": "Python 3 (ipykernel)",
   "language": "python",
   "name": "python3"
  },
  "language_info": {
   "codemirror_mode": {
    "name": "ipython",
    "version": 3
   },
   "file_extension": ".py",
   "mimetype": "text/x-python",
   "name": "python",
   "nbconvert_exporter": "python",
   "pygments_lexer": "ipython3",
   "version": "3.9.12"
  }
 },
 "nbformat": 4,
 "nbformat_minor": 5
}
