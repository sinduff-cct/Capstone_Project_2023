{
 "cells": [
  {
   "cell_type": "markdown",
   "id": "94653f46",
   "metadata": {},
   "source": [
    "## Capstone - EDA\n",
    "\n",
    "##### Reference - https://analyse.kmi.open.ac.uk/open_datasetb"
   ]
  },
  {
   "cell_type": "code",
   "execution_count": 1,
   "id": "6ce19dce",
   "metadata": {},
   "outputs": [],
   "source": [
    "# Import libraries\n",
    "\n",
    "import pandas as pd\n",
    "import numpy as np\n",
    "import seaborn as sns #visualisation\n",
    "import matplotlib.pyplot as plt #visualisation\n",
    "%matplotlib inline \n",
    "sns.set(color_codes=True)\n"
   ]
  },
  {
   "cell_type": "markdown",
   "id": "d6f8ec3b",
   "metadata": {},
   "source": [
    "## Importing the Student Info CSV file"
   ]
  },
  {
   "cell_type": "code",
   "execution_count": 2,
   "id": "ac3b68c3",
   "metadata": {},
   "outputs": [],
   "source": [
    "# read in file - studentInfo.csv\n",
    "file_path = r\"C:\\Users\\sinea\\OneDrive\\Documents OneDrive\\06 - CCT Masters in DA\\Capstone - 2023\\uci-open-university-learning-analytics-dataset\\studentInfo.csv\"\n",
    "\n",
    "studentInfo_df = pd.read_csv(file_path)\n",
    "\n",
    "#print(studentInfo_df.head())"
   ]
  },
  {
   "cell_type": "code",
   "execution_count": 3,
   "id": "ab295bc1",
   "metadata": {},
   "outputs": [],
   "source": [
    "#studentInfo_df.info()"
   ]
  },
  {
   "cell_type": "markdown",
   "id": "7ce4fa82",
   "metadata": {},
   "source": [
    "### Student Info - EDA"
   ]
  },
  {
   "cell_type": "code",
   "execution_count": 4,
   "id": "cd37eb81",
   "metadata": {},
   "outputs": [],
   "source": [
    "#studentInfo_df.head(3)"
   ]
  },
  {
   "cell_type": "code",
   "execution_count": 5,
   "id": "7c250b58",
   "metadata": {},
   "outputs": [],
   "source": [
    "student_df2 = studentInfo_df"
   ]
  },
  {
   "cell_type": "code",
   "execution_count": 6,
   "id": "b6037f04",
   "metadata": {},
   "outputs": [],
   "source": [
    "# interger coding of gender column\n",
    "student_df2['gender'] = student_df2['gender'].map({'M':0,'F':1})"
   ]
  },
  {
   "cell_type": "code",
   "execution_count": 7,
   "id": "8e5d8db5",
   "metadata": {},
   "outputs": [],
   "source": [
    "# drop excess columns\n",
    "student_df2 = studentInfo_df.drop(['region', 'disability', 'imd_band'], axis=1)"
   ]
  },
  {
   "cell_type": "code",
   "execution_count": 8,
   "id": "7262fbae",
   "metadata": {},
   "outputs": [],
   "source": [
    "# filter on course AAA\n",
    "filtered_df = student_df2[student_df2['code_module'] == 'AAA']"
   ]
  },
  {
   "cell_type": "code",
   "execution_count": 9,
   "id": "a45d2aa8",
   "metadata": {},
   "outputs": [],
   "source": [
    "# filter on semester '2013J'\n",
    "filtered_df2 = filtered_df[filtered_df['code_presentation'] == '2013J']"
   ]
  },
  {
   "cell_type": "code",
   "execution_count": 10,
   "id": "e0eb1790",
   "metadata": {},
   "outputs": [],
   "source": [
    "# drop excess columns\n",
    "filtered_df2 = filtered_df2.drop(['code_module', 'code_presentation', 'num_of_prev_attempts'], axis=1)"
   ]
  },
  {
   "cell_type": "code",
   "execution_count": 11,
   "id": "8ef0629c",
   "metadata": {},
   "outputs": [],
   "source": [
    "# add a column for tenure using randomint & numbers between 0 and 20 \n",
    "\n",
    "# set the seed for random \n",
    "np.random.seed(42)\n",
    "\n",
    "filtered_df2['tenure'] = np.random.randint(0, 20, filtered_df2.shape[0])"
   ]
  },
  {
   "cell_type": "code",
   "execution_count": 12,
   "id": "e85d9b7e",
   "metadata": {},
   "outputs": [
    {
     "name": "stdout",
     "output_type": "stream",
     "text": [
      "[ 6 19 14 10  7 18  3  2  1 11  5  0 16  9 15  4  8 17 13 12]\n"
     ]
    }
   ],
   "source": [
    "unique_values2 = filtered_df2.tenure.unique()\n",
    "\n",
    "print(unique_values2)"
   ]
  },
  {
   "cell_type": "code",
   "execution_count": 13,
   "id": "22d0b1b2",
   "metadata": {},
   "outputs": [],
   "source": [
    "# group the tenure column into bands\n",
    "#bins = [0, 5, 10, 15, float('inf')]  # float('inf') represents positive infinity\n",
    "\n",
    "#labels = ['0-5', '5-10', '11-15', '16 or more']"
   ]
  },
  {
   "cell_type": "code",
   "execution_count": 14,
   "id": "5e3d2924",
   "metadata": {},
   "outputs": [],
   "source": [
    "# pd.cut() to create a new column with the corresponding bins\n",
    "\n",
    "#filtered_df2['tenure_band'] = pd.cut(filtered_df2['tenure'], bins=bins, labels=labels, right=False)"
   ]
  },
  {
   "cell_type": "code",
   "execution_count": 15,
   "id": "869f361e",
   "metadata": {},
   "outputs": [],
   "source": [
    "#filtered_df2.info()"
   ]
  },
  {
   "cell_type": "code",
   "execution_count": 16,
   "id": "406e6a95",
   "metadata": {},
   "outputs": [],
   "source": [
    "# drop the tenure column\n",
    "#filtered_df2 = filtered_df2.drop(['tenure'], axis=1)"
   ]
  },
  {
   "cell_type": "code",
   "execution_count": 17,
   "id": "3edb0341",
   "metadata": {},
   "outputs": [
    {
     "name": "stdout",
     "output_type": "stream",
     "text": [
      "<class 'pandas.core.frame.DataFrame'>\n",
      "Int64Index: 383 entries, 0 to 382\n",
      "Data columns (total 7 columns):\n",
      " #   Column             Non-Null Count  Dtype \n",
      "---  ------             --------------  ----- \n",
      " 0   id_student         383 non-null    int64 \n",
      " 1   gender             383 non-null    int64 \n",
      " 2   highest_education  383 non-null    object\n",
      " 3   age_band           383 non-null    object\n",
      " 4   studied_credits    383 non-null    int64 \n",
      " 5   final_result       383 non-null    object\n",
      " 6   tenure             383 non-null    int32 \n",
      "dtypes: int32(1), int64(3), object(3)\n",
      "memory usage: 22.4+ KB\n"
     ]
    }
   ],
   "source": [
    "filtered_df2.info()"
   ]
  },
  {
   "cell_type": "code",
   "execution_count": 18,
   "id": "37fbe89c",
   "metadata": {},
   "outputs": [],
   "source": [
    "# save the edited filtered_df2 to a csv file to reimport as a numpy array \n",
    "#filtered_df2.to_csv('filtered_df2_A2.csv', index=False)"
   ]
  },
  {
   "cell_type": "markdown",
   "id": "39253f1c",
   "metadata": {},
   "source": [
    "## One-Hot Encoding of Categorical Data\n",
    "\n",
    "1. Reference: https://scikit-learn.org/stable/modules/generated/sklearn.preprocessing.OneHotEncoder.html"
   ]
  },
  {
   "cell_type": "code",
   "execution_count": 19,
   "id": "f6fc7201",
   "metadata": {},
   "outputs": [],
   "source": [
    "from sklearn.preprocessing import OneHotEncoder\n",
    "from numpy import asarray"
   ]
  },
  {
   "cell_type": "code",
   "execution_count": 20,
   "id": "3a2a89ad",
   "metadata": {},
   "outputs": [],
   "source": [
    "# read in the .csv file\n",
    "\n",
    "data_df = pd.read_csv(\"filtered_df2_A2.csv\")"
   ]
  },
  {
   "cell_type": "code",
   "execution_count": 21,
   "id": "7c6d90d3",
   "metadata": {},
   "outputs": [
    {
     "data": {
      "text/html": [
       "<div>\n",
       "<style scoped>\n",
       "    .dataframe tbody tr th:only-of-type {\n",
       "        vertical-align: middle;\n",
       "    }\n",
       "\n",
       "    .dataframe tbody tr th {\n",
       "        vertical-align: top;\n",
       "    }\n",
       "\n",
       "    .dataframe thead th {\n",
       "        text-align: right;\n",
       "    }\n",
       "</style>\n",
       "<table border=\"1\" class=\"dataframe\">\n",
       "  <thead>\n",
       "    <tr style=\"text-align: right;\">\n",
       "      <th></th>\n",
       "      <th>id_student</th>\n",
       "      <th>gender</th>\n",
       "      <th>highest_education</th>\n",
       "      <th>age_band</th>\n",
       "      <th>studied_credits</th>\n",
       "      <th>final_result</th>\n",
       "      <th>tenure_band</th>\n",
       "    </tr>\n",
       "  </thead>\n",
       "  <tbody>\n",
       "    <tr>\n",
       "      <th>0</th>\n",
       "      <td>11391</td>\n",
       "      <td>0</td>\n",
       "      <td>HE Qualification</td>\n",
       "      <td>55&lt;=</td>\n",
       "      <td>240</td>\n",
       "      <td>Pass</td>\n",
       "      <td>5-10</td>\n",
       "    </tr>\n",
       "    <tr>\n",
       "      <th>1</th>\n",
       "      <td>28400</td>\n",
       "      <td>1</td>\n",
       "      <td>HE Qualification</td>\n",
       "      <td>35-55</td>\n",
       "      <td>60</td>\n",
       "      <td>Pass</td>\n",
       "      <td>16 or more</td>\n",
       "    </tr>\n",
       "    <tr>\n",
       "      <th>2</th>\n",
       "      <td>30268</td>\n",
       "      <td>1</td>\n",
       "      <td>A Level or Equivalent</td>\n",
       "      <td>35-55</td>\n",
       "      <td>60</td>\n",
       "      <td>Withdrawn</td>\n",
       "      <td>11-15</td>\n",
       "    </tr>\n",
       "    <tr>\n",
       "      <th>3</th>\n",
       "      <td>31604</td>\n",
       "      <td>1</td>\n",
       "      <td>A Level or Equivalent</td>\n",
       "      <td>35-55</td>\n",
       "      <td>60</td>\n",
       "      <td>Pass</td>\n",
       "      <td>11-15</td>\n",
       "    </tr>\n",
       "    <tr>\n",
       "      <th>4</th>\n",
       "      <td>32885</td>\n",
       "      <td>1</td>\n",
       "      <td>Lower Than A Level</td>\n",
       "      <td>0-35</td>\n",
       "      <td>60</td>\n",
       "      <td>Pass</td>\n",
       "      <td>5-10</td>\n",
       "    </tr>\n",
       "  </tbody>\n",
       "</table>\n",
       "</div>"
      ],
      "text/plain": [
       "   id_student  gender      highest_education age_band  studied_credits  \\\n",
       "0       11391       0       HE Qualification     55<=              240   \n",
       "1       28400       1       HE Qualification    35-55               60   \n",
       "2       30268       1  A Level or Equivalent    35-55               60   \n",
       "3       31604       1  A Level or Equivalent    35-55               60   \n",
       "4       32885       1     Lower Than A Level     0-35               60   \n",
       "\n",
       "  final_result tenure_band  \n",
       "0         Pass        5-10  \n",
       "1         Pass  16 or more  \n",
       "2    Withdrawn       11-15  \n",
       "3         Pass       11-15  \n",
       "4         Pass        5-10  "
      ]
     },
     "execution_count": 21,
     "metadata": {},
     "output_type": "execute_result"
    }
   ],
   "source": [
    "data_df.head(5)"
   ]
  },
  {
   "cell_type": "code",
   "execution_count": 22,
   "id": "df4b5789",
   "metadata": {},
   "outputs": [],
   "source": [
    "# select the columns for one-hot encoding\n",
    "\n",
    "columns_to_encode = ['highest_education', 'age_band', 'final_result', 'tenure_band']"
   ]
  },
  {
   "cell_type": "code",
   "execution_count": 23,
   "id": "5e442799",
   "metadata": {},
   "outputs": [],
   "source": [
    "# apply one-hot encoding using pd.get_dummies()\n",
    "\n",
    "one_hot_encoded_df = pd.get_dummies(data_df, columns=columns_to_encode)"
   ]
  },
  {
   "cell_type": "code",
   "execution_count": 24,
   "id": "f62ac69f",
   "metadata": {},
   "outputs": [],
   "source": [
    "# concatenate the one-hot encoded DataFrame with the original DataFrame\n",
    "\n",
    "data_df_encoded = pd.concat([data_df, one_hot_encoded_df], axis=1)"
   ]
  },
  {
   "cell_type": "code",
   "execution_count": 25,
   "id": "37abae72",
   "metadata": {},
   "outputs": [],
   "source": [
    "# remove the original columns that have been one-hot encoded\n",
    "\n",
    "data_df_encoded.drop(columns=columns_to_encode, inplace=True)"
   ]
  },
  {
   "cell_type": "code",
   "execution_count": 26,
   "id": "5f3768f5",
   "metadata": {},
   "outputs": [
    {
     "data": {
      "text/html": [
       "<div>\n",
       "<style scoped>\n",
       "    .dataframe tbody tr th:only-of-type {\n",
       "        vertical-align: middle;\n",
       "    }\n",
       "\n",
       "    .dataframe tbody tr th {\n",
       "        vertical-align: top;\n",
       "    }\n",
       "\n",
       "    .dataframe thead th {\n",
       "        text-align: right;\n",
       "    }\n",
       "</style>\n",
       "<table border=\"1\" class=\"dataframe\">\n",
       "  <thead>\n",
       "    <tr style=\"text-align: right;\">\n",
       "      <th></th>\n",
       "      <th>id_student</th>\n",
       "      <th>gender</th>\n",
       "      <th>studied_credits</th>\n",
       "      <th>id_student</th>\n",
       "      <th>gender</th>\n",
       "      <th>studied_credits</th>\n",
       "      <th>highest_education_A Level or Equivalent</th>\n",
       "      <th>highest_education_HE Qualification</th>\n",
       "      <th>highest_education_Lower Than A Level</th>\n",
       "      <th>highest_education_Post Graduate Qualification</th>\n",
       "      <th>...</th>\n",
       "      <th>age_band_35-55</th>\n",
       "      <th>age_band_55&lt;=</th>\n",
       "      <th>final_result_Distinction</th>\n",
       "      <th>final_result_Fail</th>\n",
       "      <th>final_result_Pass</th>\n",
       "      <th>final_result_Withdrawn</th>\n",
       "      <th>tenure_band_0-5</th>\n",
       "      <th>tenure_band_11-15</th>\n",
       "      <th>tenure_band_16 or more</th>\n",
       "      <th>tenure_band_5-10</th>\n",
       "    </tr>\n",
       "  </thead>\n",
       "  <tbody>\n",
       "    <tr>\n",
       "      <th>0</th>\n",
       "      <td>11391</td>\n",
       "      <td>0</td>\n",
       "      <td>240</td>\n",
       "      <td>11391</td>\n",
       "      <td>0</td>\n",
       "      <td>240</td>\n",
       "      <td>0</td>\n",
       "      <td>1</td>\n",
       "      <td>0</td>\n",
       "      <td>0</td>\n",
       "      <td>...</td>\n",
       "      <td>0</td>\n",
       "      <td>1</td>\n",
       "      <td>0</td>\n",
       "      <td>0</td>\n",
       "      <td>1</td>\n",
       "      <td>0</td>\n",
       "      <td>0</td>\n",
       "      <td>0</td>\n",
       "      <td>0</td>\n",
       "      <td>1</td>\n",
       "    </tr>\n",
       "    <tr>\n",
       "      <th>1</th>\n",
       "      <td>28400</td>\n",
       "      <td>1</td>\n",
       "      <td>60</td>\n",
       "      <td>28400</td>\n",
       "      <td>1</td>\n",
       "      <td>60</td>\n",
       "      <td>0</td>\n",
       "      <td>1</td>\n",
       "      <td>0</td>\n",
       "      <td>0</td>\n",
       "      <td>...</td>\n",
       "      <td>1</td>\n",
       "      <td>0</td>\n",
       "      <td>0</td>\n",
       "      <td>0</td>\n",
       "      <td>1</td>\n",
       "      <td>0</td>\n",
       "      <td>0</td>\n",
       "      <td>0</td>\n",
       "      <td>1</td>\n",
       "      <td>0</td>\n",
       "    </tr>\n",
       "    <tr>\n",
       "      <th>2</th>\n",
       "      <td>30268</td>\n",
       "      <td>1</td>\n",
       "      <td>60</td>\n",
       "      <td>30268</td>\n",
       "      <td>1</td>\n",
       "      <td>60</td>\n",
       "      <td>1</td>\n",
       "      <td>0</td>\n",
       "      <td>0</td>\n",
       "      <td>0</td>\n",
       "      <td>...</td>\n",
       "      <td>1</td>\n",
       "      <td>0</td>\n",
       "      <td>0</td>\n",
       "      <td>0</td>\n",
       "      <td>0</td>\n",
       "      <td>1</td>\n",
       "      <td>0</td>\n",
       "      <td>1</td>\n",
       "      <td>0</td>\n",
       "      <td>0</td>\n",
       "    </tr>\n",
       "  </tbody>\n",
       "</table>\n",
       "<p>3 rows × 21 columns</p>\n",
       "</div>"
      ],
      "text/plain": [
       "   id_student  gender  studied_credits  id_student  gender  studied_credits  \\\n",
       "0       11391       0              240       11391       0              240   \n",
       "1       28400       1               60       28400       1               60   \n",
       "2       30268       1               60       30268       1               60   \n",
       "\n",
       "   highest_education_A Level or Equivalent  \\\n",
       "0                                        0   \n",
       "1                                        0   \n",
       "2                                        1   \n",
       "\n",
       "   highest_education_HE Qualification  highest_education_Lower Than A Level  \\\n",
       "0                                   1                                     0   \n",
       "1                                   1                                     0   \n",
       "2                                   0                                     0   \n",
       "\n",
       "   highest_education_Post Graduate Qualification  ...  age_band_35-55  \\\n",
       "0                                              0  ...               0   \n",
       "1                                              0  ...               1   \n",
       "2                                              0  ...               1   \n",
       "\n",
       "   age_band_55<=  final_result_Distinction  final_result_Fail  \\\n",
       "0              1                         0                  0   \n",
       "1              0                         0                  0   \n",
       "2              0                         0                  0   \n",
       "\n",
       "   final_result_Pass  final_result_Withdrawn  tenure_band_0-5  \\\n",
       "0                  1                       0                0   \n",
       "1                  1                       0                0   \n",
       "2                  0                       1                0   \n",
       "\n",
       "   tenure_band_11-15  tenure_band_16 or more  tenure_band_5-10  \n",
       "0                  0                       0                 1  \n",
       "1                  0                       1                 0  \n",
       "2                  1                       0                 0  \n",
       "\n",
       "[3 rows x 21 columns]"
      ]
     },
     "execution_count": 26,
     "metadata": {},
     "output_type": "execute_result"
    }
   ],
   "source": [
    "# check the new df to make sure the one-hot encoding has worked \n",
    "\n",
    "#print(data_df_encoded)\n",
    "\n",
    "data_df_encoded.head(3)"
   ]
  },
  {
   "cell_type": "code",
   "execution_count": 27,
   "id": "59c51794",
   "metadata": {},
   "outputs": [],
   "source": [
    "# convert the dtype of the recently one-hot encoded columns to int64 from uint8 dtype\n",
    "\n",
    "columns_to_convert = [\n",
    "    'highest_education_A Level or Equivalent',\n",
    "    'highest_education_HE Qualification',\n",
    "    'highest_education_Lower Than A Level',\n",
    "    'highest_education_Post Graduate Qualification',\n",
    "    'age_band_0-35',\n",
    "    'age_band_35-55',\n",
    "    'age_band_55<=',\n",
    "    'final_result_Distinction',\n",
    "    'final_result_Fail',\n",
    "    'final_result_Pass',\n",
    "    'final_result_Withdrawn', \n",
    "    'tenure_band_0-5',\n",
    "    'tenure_band_11-15',\n",
    "    'tenure_band_16 or more',\n",
    "    'tenure_band_5-10'\n",
    "]\n",
    "\n",
    "# Convert the selected columns to int64 dtype\n",
    "data_df_encoded[columns_to_convert] = data_df_encoded[columns_to_convert].astype('int64')"
   ]
  },
  {
   "cell_type": "code",
   "execution_count": 28,
   "id": "7cc49d53",
   "metadata": {},
   "outputs": [],
   "source": [
    "#data_df_encoded.info()"
   ]
  },
  {
   "cell_type": "code",
   "execution_count": null,
   "id": "7c2cb8cb",
   "metadata": {},
   "outputs": [],
   "source": []
  },
  {
   "cell_type": "markdown",
   "id": "b031891d",
   "metadata": {},
   "source": [
    "## Algorithm 2 - Decision Tree \n",
    "\n",
    "#### Reference - https://scikit-learn.org/stable/modules/tree.html\n",
    "\n",
    "Decision Tree was selected as the 2nd algorithm as it was the most used algorithm in the articles reviewed.\n",
    "\n",
    "A classication decision tree was used as a counter point to the logistic regression used in the first algorithm."
   ]
  },
  {
   "cell_type": "code",
   "execution_count": 43,
   "id": "59134cc6",
   "metadata": {},
   "outputs": [],
   "source": [
    "# import the libraries for the algorithm\n",
    "\n",
    "from sklearn.model_selection import train_test_split\n",
    "from sklearn.tree import DecisionTreeClassifier\n",
    "from sklearn.metrics import accuracy_score, classification_report\n",
    "from sklearn.model_selection import cross_val_score\n",
    "\n",
    "# libraries for the confusion matrix\n",
    "from sklearn.metrics import confusion_matrix, ConfusionMatrixDisplay\n",
    "\n",
    "# create tables\n",
    "from tabulate import tabulate"
   ]
  },
  {
   "cell_type": "code",
   "execution_count": 48,
   "id": "062e794e",
   "metadata": {},
   "outputs": [],
   "source": [
    "# drop any duplicate columns that might be present\n",
    "# and stop the code being turned into a numpy array\n",
    "\n",
    "data_df_encoded = data_df_encoded.loc[:, ~data_df_encoded.columns.duplicated()]"
   ]
  },
  {
   "cell_type": "code",
   "execution_count": 49,
   "id": "fe3a7277",
   "metadata": {},
   "outputs": [],
   "source": [
    "# divide the dataset into features (X) and the target variable (y) using gender\n",
    "\n",
    "X = data_df_encoded.drop(columns=['age_band_35-55'])\n",
    "y = data_df_encoded['age_band_35-55']"
   ]
  },
  {
   "cell_type": "code",
   "execution_count": 50,
   "id": "987c8292",
   "metadata": {},
   "outputs": [],
   "source": [
    "# spliting the dataframe into Test and Train data for Algorithm 2\n",
    "\n",
    "X_train, X_test, y_train, y_test = train_test_split(X, y, test_size = 0.2, random_state = 0)"
   ]
  },
  {
   "cell_type": "code",
   "execution_count": 51,
   "id": "cc79a7ea",
   "metadata": {},
   "outputs": [],
   "source": [
    "# creating a new model using Decision Tree Classifier\n",
    "\n",
    "dt_model = DecisionTreeClassifier()"
   ]
  },
  {
   "cell_type": "markdown",
   "id": "61f8c073",
   "metadata": {},
   "source": [
    "#### Cross Validaition"
   ]
  },
  {
   "cell_type": "code",
   "execution_count": 52,
   "id": "ef50ec04",
   "metadata": {},
   "outputs": [],
   "source": [
    "# perform 5-fold cross-validation and get the accuracy scores for each fold\n",
    "\n",
    "cv_scores = cross_val_score(dt_model, X, y, cv=5)"
   ]
  },
  {
   "cell_type": "code",
   "execution_count": 53,
   "id": "c1b92c7c",
   "metadata": {},
   "outputs": [
    {
     "name": "stdout",
     "output_type": "stream",
     "text": [
      "Cross-Validation Scores: [1. 1. 1. 1. 1.]\n"
     ]
    }
   ],
   "source": [
    "# print the accuracy scores for each fold\n",
    "\n",
    "print(\"Cross-Validation Scores:\", cv_scores)"
   ]
  },
  {
   "cell_type": "code",
   "execution_count": 54,
   "id": "e0529ebf",
   "metadata": {},
   "outputs": [
    {
     "name": "stdout",
     "output_type": "stream",
     "text": [
      "Average Accuracy: 1.0\n"
     ]
    }
   ],
   "source": [
    "# calculate and print the average accuracy across all folds\n",
    "\n",
    "average_accuracy = cv_scores.mean()\n",
    "\n",
    "print(\"Average Accuracy:\", average_accuracy)"
   ]
  },
  {
   "cell_type": "code",
   "execution_count": null,
   "id": "2b7702e8",
   "metadata": {},
   "outputs": [],
   "source": []
  },
  {
   "cell_type": "code",
   "execution_count": null,
   "id": "ffc79196",
   "metadata": {},
   "outputs": [],
   "source": []
  },
  {
   "cell_type": "code",
   "execution_count": null,
   "id": "072b1f45",
   "metadata": {},
   "outputs": [],
   "source": []
  },
  {
   "cell_type": "code",
   "execution_count": null,
   "id": "d96ceeec",
   "metadata": {},
   "outputs": [],
   "source": []
  },
  {
   "cell_type": "code",
   "execution_count": null,
   "id": "a27ed09a",
   "metadata": {},
   "outputs": [],
   "source": []
  },
  {
   "cell_type": "code",
   "execution_count": null,
   "id": "c57d11af",
   "metadata": {},
   "outputs": [],
   "source": []
  },
  {
   "cell_type": "code",
   "execution_count": null,
   "id": "11d7c53b",
   "metadata": {},
   "outputs": [],
   "source": []
  },
  {
   "cell_type": "code",
   "execution_count": null,
   "id": "1539d870",
   "metadata": {},
   "outputs": [],
   "source": []
  },
  {
   "cell_type": "code",
   "execution_count": null,
   "id": "7c9ad798",
   "metadata": {},
   "outputs": [],
   "source": []
  },
  {
   "cell_type": "code",
   "execution_count": null,
   "id": "c15f8afe",
   "metadata": {},
   "outputs": [],
   "source": []
  },
  {
   "cell_type": "code",
   "execution_count": null,
   "id": "9e4eb75a",
   "metadata": {},
   "outputs": [],
   "source": []
  },
  {
   "cell_type": "code",
   "execution_count": null,
   "id": "f9ca522a",
   "metadata": {},
   "outputs": [],
   "source": []
  },
  {
   "cell_type": "code",
   "execution_count": null,
   "id": "269575e8",
   "metadata": {},
   "outputs": [],
   "source": []
  },
  {
   "cell_type": "code",
   "execution_count": null,
   "id": "1fd09436",
   "metadata": {},
   "outputs": [],
   "source": []
  },
  {
   "cell_type": "markdown",
   "id": "26e8aef6",
   "metadata": {},
   "source": [
    "## References \n",
    "\n",
    "1. https://analyse.kmi.open.ac.uk/open_dataset, accessed 21 July 2023\n",
    "2. https://stackoverflow.com/questions/58030352/csv-file-transpose-column-to-row-in-python, accessed on 25 July 2023\n",
    "3. "
   ]
  },
  {
   "cell_type": "code",
   "execution_count": null,
   "id": "7b4f1879",
   "metadata": {},
   "outputs": [],
   "source": []
  }
 ],
 "metadata": {
  "kernelspec": {
   "display_name": "Python 3 (ipykernel)",
   "language": "python",
   "name": "python3"
  },
  "language_info": {
   "codemirror_mode": {
    "name": "ipython",
    "version": 3
   },
   "file_extension": ".py",
   "mimetype": "text/x-python",
   "name": "python",
   "nbconvert_exporter": "python",
   "pygments_lexer": "ipython3",
   "version": "3.9.12"
  }
 },
 "nbformat": 4,
 "nbformat_minor": 5
}
