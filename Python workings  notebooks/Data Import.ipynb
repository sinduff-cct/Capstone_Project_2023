{
 "cells": [
  {
   "cell_type": "markdown",
   "id": "94653f46",
   "metadata": {},
   "source": [
    "## Capstone - Data Import Exercise\n",
    "\n",
    "##### Reference - https://analyse.kmi.open.ac.uk/open_datasetb"
   ]
  },
  {
   "cell_type": "code",
   "execution_count": 1,
   "id": "6ce19dce",
   "metadata": {},
   "outputs": [],
   "source": [
    "# Import libraries\n",
    "\n",
    "import pandas as pd\n",
    "import numpy as np\n",
    "import seaborn as sns #visualisation\n",
    "import matplotlib.pyplot as plt #visualisation\n",
    "%matplotlib inline \n",
    "sns.set(color_codes=True)\n"
   ]
  },
  {
   "cell_type": "markdown",
   "id": "d6f8ec3b",
   "metadata": {},
   "source": [
    "## Exploring the CSV files"
   ]
  },
  {
   "cell_type": "code",
   "execution_count": null,
   "id": "97045bae",
   "metadata": {},
   "outputs": [],
   "source": [
    "# read in file - assessments.csv\n",
    "file_path = r\"C:\\Users\\sinea\\OneDrive\\Documents OneDrive\\06 - CCT Masters in DA\\Capstone - 2023\\uci-open-university-learning-analytics-dataset\\assessments.csv\"\n",
    "\n",
    "assess_df = pd.read_csv(file_path)\n",
    "\n",
    "print(assess_df.head())\n"
   ]
  },
  {
   "cell_type": "code",
   "execution_count": null,
   "id": "ec20e6c0",
   "metadata": {},
   "outputs": [],
   "source": [
    "assess_df.info()"
   ]
  },
  {
   "cell_type": "code",
   "execution_count": null,
   "id": "3ca17c3f",
   "metadata": {},
   "outputs": [],
   "source": [
    "# read in file - courses.csv\n",
    "file_path = r\"C:\\Users\\sinea\\OneDrive\\Documents OneDrive\\06 - CCT Masters in DA\\Capstone - 2023\\uci-open-university-learning-analytics-dataset\\courses.csv\"\n",
    "\n",
    "courses_df = pd.read_csv(file_path)\n",
    "\n",
    "print(courses_df.head())\n"
   ]
  },
  {
   "cell_type": "code",
   "execution_count": null,
   "id": "ff9ad635",
   "metadata": {},
   "outputs": [],
   "source": [
    "courses_df.info()"
   ]
  },
  {
   "cell_type": "code",
   "execution_count": null,
   "id": "bfad6c8d",
   "metadata": {},
   "outputs": [],
   "source": [
    "# read in file - studentAssessment.csv\n",
    "file_path = r\"C:\\Users\\sinea\\OneDrive\\Documents OneDrive\\06 - CCT Masters in DA\\Capstone - 2023\\uci-open-university-learning-analytics-dataset\\studentAssessment.csv\"\n",
    "\n",
    "studentAssessment_df = pd.read_csv(file_path)\n",
    "\n",
    "print(studentAssessment_df.head())"
   ]
  },
  {
   "cell_type": "code",
   "execution_count": null,
   "id": "4ccb7e96",
   "metadata": {},
   "outputs": [],
   "source": [
    "studentAssessment_df.info()"
   ]
  },
  {
   "cell_type": "code",
   "execution_count": null,
   "id": "ac3b68c3",
   "metadata": {},
   "outputs": [],
   "source": [
    "# read in file - studentInfo.csv\n",
    "file_path = r\"C:\\Users\\sinea\\OneDrive\\Documents OneDrive\\06 - CCT Masters in DA\\Capstone - 2023\\uci-open-university-learning-analytics-dataset\\studentInfo.csv\"\n",
    "\n",
    "studentInfo_df = pd.read_csv(file_path)\n",
    "\n",
    "print(studentInfo_df.head())"
   ]
  },
  {
   "cell_type": "code",
   "execution_count": null,
   "id": "ab295bc1",
   "metadata": {},
   "outputs": [],
   "source": [
    "studentInfo_df.info()"
   ]
  },
  {
   "cell_type": "code",
   "execution_count": null,
   "id": "c01de66c",
   "metadata": {},
   "outputs": [],
   "source": [
    "# read in file - studentAssessment.csv\n",
    "file_path = r\"C:\\Users\\sinea\\OneDrive\\Documents OneDrive\\06 - CCT Masters in DA\\Capstone - 2023\\uci-open-university-learning-analytics-dataset\\studentRegistration.csv\"\n",
    "\n",
    "studentRegistration_df = pd.read_csv(file_path)\n",
    "\n",
    "print(studentRegistration_df.head())"
   ]
  },
  {
   "cell_type": "code",
   "execution_count": null,
   "id": "27a8c2c1",
   "metadata": {},
   "outputs": [],
   "source": [
    "studentRegistration_df.info()"
   ]
  },
  {
   "cell_type": "code",
   "execution_count": null,
   "id": "a6af8831",
   "metadata": {},
   "outputs": [],
   "source": [
    "# read in file - studentVle.csv\n",
    "file_path = r\"C:\\Users\\sinea\\OneDrive\\Documents OneDrive\\06 - CCT Masters in DA\\Capstone - 2023\\uci-open-university-learning-analytics-dataset\\studentVle.csv\"\n",
    "\n",
    "student_vle_df = pd.read_csv(file_path)\n",
    "\n",
    "print(student_vle_df.head())"
   ]
  },
  {
   "cell_type": "code",
   "execution_count": null,
   "id": "f82dd4fa",
   "metadata": {},
   "outputs": [],
   "source": [
    "student_vle_df.info()"
   ]
  },
  {
   "cell_type": "code",
   "execution_count": null,
   "id": "2e1d6af7",
   "metadata": {},
   "outputs": [],
   "source": [
    "# read in file - vle.csv\n",
    "file_path = r\"C:\\Users\\sinea\\OneDrive\\Documents OneDrive\\06 - CCT Masters in DA\\Capstone - 2023\\uci-open-university-learning-analytics-dataset\\vle.csv\"\n",
    "\n",
    "vle_df = pd.read_csv(file_path)\n",
    "\n",
    "print(vle_df.head())"
   ]
  },
  {
   "cell_type": "code",
   "execution_count": null,
   "id": "44650ea8",
   "metadata": {
    "scrolled": true
   },
   "outputs": [],
   "source": [
    "#vle_df.info()"
   ]
  },
  {
   "cell_type": "markdown",
   "id": "e4a3736d",
   "metadata": {},
   "source": [
    "## Graphing the CSV files"
   ]
  },
  {
   "cell_type": "code",
   "execution_count": null,
   "id": "bcc3dbfc",
   "metadata": {},
   "outputs": [],
   "source": [
    "# studentInfo_df\n",
    "\n",
    "sns.histplot(x=studentInfo_df[\"gender\"]).set(title = \"Gender Distribution\")\n",
    "\n",
    "plt.title('Age Distribution by Ban')\n",
    "plt.xlabel('Gender')\n",
    "plt.ylabel('Number of Students')\n",
    "plt.show()"
   ]
  },
  {
   "cell_type": "code",
   "execution_count": null,
   "id": "7e6e7253",
   "metadata": {},
   "outputs": [],
   "source": [
    "# studentInfo_df\n",
    "\n",
    "studentInfo_df[['id_student', 'age_band']].groupby(by='age_band').count().plot.bar()\n",
    "\n",
    "plt.title('Age Distribution by Band')\n",
    "plt.xlabel('Age Band')\n",
    "plt.ylabel('Number of Students')\n",
    "plt.xticks(rotation = 90)\n",
    "plt.show()"
   ]
  },
  {
   "cell_type": "code",
   "execution_count": null,
   "id": "4b35b00f",
   "metadata": {},
   "outputs": [],
   "source": [
    "# studentInfo_df\n",
    "\n",
    "\n",
    "sns.histplot(x=studentInfo_df[\"highest_education\"])\n",
    "\n",
    "plt.title('Education Levels of Student')\n",
    "plt.xlabel('Education Level')\n",
    "plt.ylabel('Number of Students')\n",
    "plt.xticks(rotation = 90)\n",
    "plt.show()"
   ]
  },
  {
   "cell_type": "code",
   "execution_count": null,
   "id": "ab0d6e04",
   "metadata": {},
   "outputs": [],
   "source": [
    "# studentInfo_df\n",
    "\n",
    "# Drop 'id_student' and 'num_of_prev_attempts' columns \n",
    "# to show the highest level of education of the student\n",
    "studentInfo_df.drop(['id_student', 'num_of_prev_attempts'], axis=1).boxplot(by = 'highest_education')\n",
    "\n",
    "\n",
    "plt.title('Highest level of education of the student')\n",
    "plt.xlabel('Education Level')\n",
    "plt.ylabel('Number of previous attempts')\n",
    "plt.xticks(rotation = 90)\n",
    "plt.show()"
   ]
  },
  {
   "cell_type": "code",
   "execution_count": null,
   "id": "91073a10",
   "metadata": {},
   "outputs": [],
   "source": [
    "# studentInfo_df\n",
    "\n",
    "# Drop 'id_student' and 'num_of_prev_attempts' columns and showcase module\n",
    "studentInfo_df.drop(['id_student', 'num_of_prev_attempts'], axis=1).boxplot(by = 'code_module')\n",
    "\n",
    "plt.title('Number of attempts to complete the module')\n",
    "plt.xlabel('Modules by Code')\n",
    "plt.ylabel('Number of previous attempts')\n",
    "plt.xticks(rotation = 90)\n",
    "plt.show()\n"
   ]
  },
  {
   "cell_type": "code",
   "execution_count": null,
   "id": "f1dbf398",
   "metadata": {},
   "outputs": [],
   "source": [
    "# \n",
    "\n",
    "# show the number of attemts to complete the module by credits earned by module\n",
    "sns.jointplot(data=studentInfo_df, x=\"num_of_prev_attempts\", y=\"id_student\", hue=\"studied_credits\")\n",
    "\n",
    "plt.title('Number of attempts to pass the module by credits studied by module')\n",
    "plt.xlabel('Number of Students')\n",
    "plt.ylabel('Region')\n",
    "plt.show()"
   ]
  },
  {
   "cell_type": "code",
   "execution_count": null,
   "id": "8141da3c",
   "metadata": {},
   "outputs": [],
   "source": [
    "# studentRegistration_df\n",
    "\n",
    "# count the students registered by module\n",
    "module_counts = studentRegistration_df['code_module'].value_counts()\n",
    "\n",
    "plt.figure(figsize=(12, 6))\n",
    "module_counts.plot(kind='bar')\n",
    "plt.title('Number of Students Registered by Module')\n",
    "plt.xlabel('Module Code')\n",
    "plt.ylabel('Number of Students Registered')\n",
    "plt.show()"
   ]
  },
  {
   "cell_type": "code",
   "execution_count": null,
   "id": "9b3adc1b",
   "metadata": {},
   "outputs": [],
   "source": [
    "# studentInfo_df\n",
    "\n",
    "# show student ages by region \n",
    "pd.crosstab(studentInfo_df.region, studentInfo_df.age_band).plot.barh(stacked = True)\n",
    "\n",
    "plt.title('Age Bands of Students by Region')\n",
    "plt.xlabel('Number of Students')\n",
    "plt.ylabel('Region')\n",
    "plt.show()"
   ]
  },
  {
   "cell_type": "code",
   "execution_count": null,
   "id": "54a7dd6e",
   "metadata": {},
   "outputs": [],
   "source": []
  },
  {
   "cell_type": "code",
   "execution_count": null,
   "id": "79e6afef",
   "metadata": {},
   "outputs": [],
   "source": []
  },
  {
   "cell_type": "code",
   "execution_count": null,
   "id": "cd37eb81",
   "metadata": {},
   "outputs": [],
   "source": []
  },
  {
   "cell_type": "code",
   "execution_count": null,
   "id": "7c250b58",
   "metadata": {},
   "outputs": [],
   "source": []
  },
  {
   "cell_type": "code",
   "execution_count": null,
   "id": "b6037f04",
   "metadata": {},
   "outputs": [],
   "source": []
  },
  {
   "cell_type": "code",
   "execution_count": null,
   "id": "8e5d8db5",
   "metadata": {},
   "outputs": [],
   "source": []
  },
  {
   "cell_type": "code",
   "execution_count": null,
   "id": "e0eb1790",
   "metadata": {},
   "outputs": [],
   "source": []
  },
  {
   "cell_type": "code",
   "execution_count": null,
   "id": "7262fbae",
   "metadata": {},
   "outputs": [],
   "source": []
  },
  {
   "cell_type": "code",
   "execution_count": null,
   "id": "15d3727b",
   "metadata": {},
   "outputs": [],
   "source": []
  },
  {
   "cell_type": "code",
   "execution_count": null,
   "id": "93b3ce58",
   "metadata": {},
   "outputs": [],
   "source": []
  },
  {
   "cell_type": "code",
   "execution_count": null,
   "id": "4159bcf9",
   "metadata": {},
   "outputs": [],
   "source": []
  },
  {
   "cell_type": "code",
   "execution_count": null,
   "id": "4fe12931",
   "metadata": {},
   "outputs": [],
   "source": []
  },
  {
   "cell_type": "markdown",
   "id": "3dbaf6d0",
   "metadata": {},
   "source": [
    "## Performance and Interaction \n",
    "\n",
    "### Creating a df of student performace and interaction detail from the vle files - VLE + Student_VLE\n",
    "\n",
    "Joining the dataframs using a .concat. , specifically an inner join.\n",
    "Resets the index to zero for the entire dataframe using .reset_index(). By setting the drop value to 'True', the index is reset to the default integer index."
   ]
  },
  {
   "cell_type": "code",
   "execution_count": null,
   "id": "e904c496",
   "metadata": {},
   "outputs": [],
   "source": [
    "#  merge the datasets using concatenate and reeset the index\n",
    "perform_df = [vle_df, student_vle_df]"
   ]
  },
  {
   "cell_type": "code",
   "execution_count": null,
   "id": "168b020f",
   "metadata": {},
   "outputs": [],
   "source": [
    "# join the dataframe together using a join\n",
    "\n",
    "combined_vle_df = pd.merge(student_vle_df, vle_df, on='id_site', how='inner')"
   ]
  },
  {
   "cell_type": "code",
   "execution_count": null,
   "id": "c21ce132",
   "metadata": {},
   "outputs": [],
   "source": [
    "# show the combined df\n",
    "\n",
    "combined_vle_df.head()"
   ]
  },
  {
   "cell_type": "code",
   "execution_count": null,
   "id": "e1fd8a7b",
   "metadata": {},
   "outputs": [],
   "source": [
    "# filter the results by code_module  - AAA in this instance\n",
    "\n",
    "course_code = ['AAA']\n",
    "\n",
    "filtered_df = combined_vle_df.loc[combined_vle_df['code_module_x'].isin(course_code)]\n",
    "\n",
    "filtered_df.head()"
   ]
  },
  {
   "cell_type": "code",
   "execution_count": null,
   "id": "4548bbbc",
   "metadata": {},
   "outputs": [],
   "source": [
    "# group the number of student logins by date \n",
    "\n",
    "\n",
    "# total_logins = combined_vle_df.groupby('id_student')['date'].count()\n",
    "total_logins = filtered_df.groupby('id_student')['date'].count()\n",
    "\n",
    "total_logins.head()"
   ]
  },
  {
   "cell_type": "code",
   "execution_count": null,
   "id": "91e4d2a6",
   "metadata": {},
   "outputs": [],
   "source": []
  },
  {
   "cell_type": "code",
   "execution_count": null,
   "id": "59f5dc6b",
   "metadata": {},
   "outputs": [],
   "source": []
  },
  {
   "cell_type": "code",
   "execution_count": null,
   "id": "dbfd2444",
   "metadata": {},
   "outputs": [],
   "source": []
  },
  {
   "cell_type": "code",
   "execution_count": null,
   "id": "f4a6f280",
   "metadata": {},
   "outputs": [],
   "source": [
    "# calculate the feature logins by student based on their access to the vle\n",
    "\n",
    "feature_logins = combined_vle_df.groupby(['id_student', 'id_site']).size().reset_index(name='login_count')\n"
   ]
  },
  {
   "cell_type": "code",
   "execution_count": null,
   "id": "7baec1f4",
   "metadata": {},
   "outputs": [],
   "source": [
    "# print out the newly created variable holding the feature logins by student\n",
    "\n",
    "print(feature_logins)"
   ]
  },
  {
   "cell_type": "code",
   "execution_count": null,
   "id": "9253cf01",
   "metadata": {},
   "outputs": [],
   "source": [
    "# read in the csv file and transpose the data so 1 row is for each student\n",
    "# Reference - https://stackoverflow.com/questions/58030352/csv-file-transpose-column-to-row-in-python\n",
    "\n",
    "feature_vle = feature_logins.pivot(index='id_student', columns='id_site', values='login_count').reset_index()"
   ]
  },
  {
   "cell_type": "code",
   "execution_count": null,
   "id": "8f6675d4",
   "metadata": {},
   "outputs": [],
   "source": [
    "# fill in the NaN results with 0\n",
    "feature_vle = feature_vle.fillna(0)"
   ]
  },
  {
   "cell_type": "code",
   "execution_count": null,
   "id": "c1d811a5",
   "metadata": {},
   "outputs": [],
   "source": [
    "feature_vle"
   ]
  },
  {
   "cell_type": "code",
   "execution_count": null,
   "id": "4ec4a85e",
   "metadata": {},
   "outputs": [],
   "source": [
    "# convert the feature_vle to a csv file \n",
    "\n",
    "feature_vle.to_csv('C:\\\\Users\\\\sinea\\\\OneDrive\\\\Documents OneDrive\\\\06 - CCT Masters in DA\\\\Capstone - 2023\\\\uci-open-university-learning-analytics-dataset\\\\feature_vle.csv', index=False)\n"
   ]
  },
  {
   "cell_type": "markdown",
   "id": "188f0786",
   "metadata": {},
   "source": [
    "## Exploring the Student and Course files\n",
    "\n",
    "### Filter students by course\n",
    "\n",
    "create a csv file for student information"
   ]
  },
  {
   "cell_type": "code",
   "execution_count": null,
   "id": "58878e05",
   "metadata": {},
   "outputs": [],
   "source": [
    "# Convert date columns to datetime type\n",
    "#studentRegistration_df['date_registration'] = pd.to_datetime(studentRegistration_df['date_registration'])\n"
   ]
  },
  {
   "cell_type": "code",
   "execution_count": null,
   "id": "0e2fcddb",
   "metadata": {},
   "outputs": [],
   "source": [
    "studentRegistration_df.info()"
   ]
  },
  {
   "cell_type": "code",
   "execution_count": null,
   "id": "9b456831",
   "metadata": {},
   "outputs": [],
   "source": []
  },
  {
   "cell_type": "code",
   "execution_count": null,
   "id": "7c6d90d3",
   "metadata": {},
   "outputs": [],
   "source": []
  },
  {
   "cell_type": "code",
   "execution_count": null,
   "id": "59c51794",
   "metadata": {},
   "outputs": [],
   "source": []
  },
  {
   "cell_type": "code",
   "execution_count": null,
   "id": "7c2cb8cb",
   "metadata": {},
   "outputs": [],
   "source": []
  },
  {
   "cell_type": "code",
   "execution_count": null,
   "id": "3683e6e8",
   "metadata": {},
   "outputs": [],
   "source": []
  },
  {
   "cell_type": "code",
   "execution_count": null,
   "id": "77b047b6",
   "metadata": {},
   "outputs": [],
   "source": []
  },
  {
   "cell_type": "code",
   "execution_count": null,
   "id": "62eac4a2",
   "metadata": {},
   "outputs": [],
   "source": []
  },
  {
   "cell_type": "code",
   "execution_count": null,
   "id": "1112afdb",
   "metadata": {},
   "outputs": [],
   "source": []
  },
  {
   "cell_type": "markdown",
   "id": "26e8aef6",
   "metadata": {},
   "source": [
    "## References \n",
    "\n",
    "1. https://analyse.kmi.open.ac.uk/open_dataset, accessed 21 July 2023\n",
    "2. https://stackoverflow.com/questions/58030352/csv-file-transpose-column-to-row-in-python, accessed on 25 July 2023\n",
    "3. "
   ]
  },
  {
   "cell_type": "code",
   "execution_count": null,
   "id": "7b4f1879",
   "metadata": {},
   "outputs": [],
   "source": []
  }
 ],
 "metadata": {
  "kernelspec": {
   "display_name": "Python 3 (ipykernel)",
   "language": "python",
   "name": "python3"
  },
  "language_info": {
   "codemirror_mode": {
    "name": "ipython",
    "version": 3
   },
   "file_extension": ".py",
   "mimetype": "text/x-python",
   "name": "python",
   "nbconvert_exporter": "python",
   "pygments_lexer": "ipython3",
   "version": "3.9.12"
  }
 },
 "nbformat": 4,
 "nbformat_minor": 5
}
